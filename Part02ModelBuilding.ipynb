{
 "cells": [
  {
   "cell_type": "markdown",
   "metadata": {},
   "source": [
    "# Part 2: Feature Engineering and Modelling"
   ]
  },
  {
   "cell_type": "markdown",
   "metadata": {},
   "source": [
    "## Introduction\n",
    "\n",
    "Welcome to the second notebook where we use the scraped Jakarta Apartment Dataset. In this notebook, we will use the cleaned data from our previous notebook to create and evaluate regression models to predict the annual rent price rate of apartments in Jakarta and its surrounding. \n",
    "\n",
    "First, we'll analyze the numerical features of our dataset and check if the data has to be scaled and/or if the data has multicolinearity issues. Then, we'll create a baseline model. After that, the baseline model will be evaluated, and further feature engineerings will be done to improve our initial model. Finally, we'll evaluate our models and choose the best model."
   ]
  },
  {
   "cell_type": "markdown",
   "metadata": {},
   "source": [
    "## Importing Packages"
   ]
  },
  {
   "cell_type": "code",
   "execution_count": 1,
   "metadata": {},
   "outputs": [],
   "source": [
    "# Essentials\n",
    "import numpy as np\n",
    "import pandas as pd\n",
    "import datetime\n",
    "import random\n",
    "\n",
    "# Plots\n",
    "import matplotlib.pyplot as plt\n",
    "import seaborn as sns\n",
    "%matplotlib inline\n",
    "\n",
    "# Models\n",
    "from sklearn.ensemble import RandomForestRegressor, GradientBoostingRegressor, AdaBoostRegressor, BaggingRegressor\n",
    "from sklearn.kernel_ridge import KernelRidge\n",
    "from sklearn.linear_model import Lasso\n",
    "from sklearn.linear_model import LinearRegression\n",
    "from sklearn.linear_model import Ridge, RidgeCV\n",
    "from sklearn.linear_model import ElasticNet, ElasticNetCV\n",
    "from sklearn.svm import SVR\n",
    "from mlxtend.regressor import StackingCVRegressor\n",
    "import lightgbm as lgb\n",
    "from lightgbm import LGBMRegressor\n",
    "from xgboost.sklearn import XGBRegressor\n",
    "\n",
    "# Stats\n",
    "from scipy.stats import skew, norm\n",
    "from scipy.special import boxcox1p\n",
    "from scipy.stats import boxcox_normmax\n",
    "\n",
    "# Misc\n",
    "from sklearn.model_selection import GridSearchCV\n",
    "from sklearn.model_selection import KFold, cross_val_score\n",
    "from sklearn.metrics import mean_squared_error\n",
    "from sklearn.preprocessing import OneHotEncoder\n",
    "from sklearn.preprocessing import LabelEncoder\n",
    "from sklearn.pipeline import make_pipeline\n",
    "from sklearn.preprocessing import scale\n",
    "from sklearn.preprocessing import StandardScaler, PowerTransformer\n",
    "from sklearn.preprocessing import RobustScaler\n",
    "from sklearn.preprocessing import MinMaxScaler\n",
    "from sklearn.decomposition import PCA"
   ]
  },
  {
   "cell_type": "markdown",
   "metadata": {},
   "source": [
    "## Importing the Cleaned Data"
   ]
  },
  {
   "cell_type": "code",
   "execution_count": 2,
   "metadata": {},
   "outputs": [],
   "source": [
    "df_clean = pd.read_csv('Cleaned Apartment Data.csv')"
   ]
  },
  {
   "cell_type": "code",
   "execution_count": 3,
   "metadata": {},
   "outputs": [],
   "source": [
    "df_clean = df_clean.drop(['Unnamed: 0', 'Index', 'URL', 'Unit_ID', 'FurnishedNew'], axis = 'columns')"
   ]
  },
  {
   "cell_type": "code",
   "execution_count": 4,
   "metadata": {
    "scrolled": true
   },
   "outputs": [
    {
     "data": {
      "text/html": [
       "<div>\n",
       "<style scoped>\n",
       "    .dataframe tbody tr th:only-of-type {\n",
       "        vertical-align: middle;\n",
       "    }\n",
       "\n",
       "    .dataframe tbody tr th {\n",
       "        vertical-align: top;\n",
       "    }\n",
       "\n",
       "    .dataframe thead th {\n",
       "        text-align: right;\n",
       "    }\n",
       "</style>\n",
       "<table border=\"1\" class=\"dataframe\">\n",
       "  <thead>\n",
       "    <tr style=\"text-align: right;\">\n",
       "      <th></th>\n",
       "      <th>No_Rooms</th>\n",
       "      <th>Locality</th>\n",
       "      <th>Region</th>\n",
       "      <th>Longitude</th>\n",
       "      <th>Latitude</th>\n",
       "      <th>Furnished</th>\n",
       "      <th>Area</th>\n",
       "      <th>AC</th>\n",
       "      <th>Water_Heater</th>\n",
       "      <th>Dining_Set</th>\n",
       "      <th>...</th>\n",
       "      <th>Security</th>\n",
       "      <th>Basketball</th>\n",
       "      <th>Multipurpose_Room</th>\n",
       "      <th>Gym</th>\n",
       "      <th>Jogging</th>\n",
       "      <th>Tennis</th>\n",
       "      <th>Restaurant</th>\n",
       "      <th>Playground</th>\n",
       "      <th>Total_Facilities</th>\n",
       "      <th>AnnualPrice</th>\n",
       "    </tr>\n",
       "  </thead>\n",
       "  <tbody>\n",
       "    <tr>\n",
       "      <th>0</th>\n",
       "      <td>1</td>\n",
       "      <td>Semanggi</td>\n",
       "      <td>Jakarta Selatan</td>\n",
       "      <td>106.819159</td>\n",
       "      <td>-6.226598</td>\n",
       "      <td>1</td>\n",
       "      <td>43.0</td>\n",
       "      <td>1</td>\n",
       "      <td>1</td>\n",
       "      <td>1</td>\n",
       "      <td>...</td>\n",
       "      <td>1</td>\n",
       "      <td>1</td>\n",
       "      <td>1</td>\n",
       "      <td>1</td>\n",
       "      <td>1</td>\n",
       "      <td>1</td>\n",
       "      <td>1</td>\n",
       "      <td>1</td>\n",
       "      <td>23</td>\n",
       "      <td>96000000.0</td>\n",
       "    </tr>\n",
       "    <tr>\n",
       "      <th>1</th>\n",
       "      <td>2</td>\n",
       "      <td>Kebon Jeruk</td>\n",
       "      <td>Jakarta Barat</td>\n",
       "      <td>106.756061</td>\n",
       "      <td>-6.192081</td>\n",
       "      <td>0</td>\n",
       "      <td>35.0</td>\n",
       "      <td>1</td>\n",
       "      <td>0</td>\n",
       "      <td>0</td>\n",
       "      <td>...</td>\n",
       "      <td>1</td>\n",
       "      <td>0</td>\n",
       "      <td>1</td>\n",
       "      <td>1</td>\n",
       "      <td>1</td>\n",
       "      <td>0</td>\n",
       "      <td>1</td>\n",
       "      <td>1</td>\n",
       "      <td>19</td>\n",
       "      <td>30000000.0</td>\n",
       "    </tr>\n",
       "    <tr>\n",
       "      <th>2</th>\n",
       "      <td>2</td>\n",
       "      <td>Kedoya</td>\n",
       "      <td>Jakarta Barat</td>\n",
       "      <td>106.757651</td>\n",
       "      <td>-6.186415</td>\n",
       "      <td>1</td>\n",
       "      <td>53.0</td>\n",
       "      <td>1</td>\n",
       "      <td>1</td>\n",
       "      <td>1</td>\n",
       "      <td>...</td>\n",
       "      <td>1</td>\n",
       "      <td>0</td>\n",
       "      <td>1</td>\n",
       "      <td>1</td>\n",
       "      <td>1</td>\n",
       "      <td>0</td>\n",
       "      <td>1</td>\n",
       "      <td>1</td>\n",
       "      <td>22</td>\n",
       "      <td>70000000.0</td>\n",
       "    </tr>\n",
       "    <tr>\n",
       "      <th>3</th>\n",
       "      <td>2</td>\n",
       "      <td>Pondok Indah</td>\n",
       "      <td>Jakarta Selatan</td>\n",
       "      <td>106.784600</td>\n",
       "      <td>-6.272637</td>\n",
       "      <td>1</td>\n",
       "      <td>85.0</td>\n",
       "      <td>1</td>\n",
       "      <td>1</td>\n",
       "      <td>1</td>\n",
       "      <td>...</td>\n",
       "      <td>1</td>\n",
       "      <td>1</td>\n",
       "      <td>1</td>\n",
       "      <td>1</td>\n",
       "      <td>1</td>\n",
       "      <td>1</td>\n",
       "      <td>1</td>\n",
       "      <td>1</td>\n",
       "      <td>24</td>\n",
       "      <td>576000000.0</td>\n",
       "    </tr>\n",
       "    <tr>\n",
       "      <th>4</th>\n",
       "      <td>2</td>\n",
       "      <td>Grogol</td>\n",
       "      <td>Jakarta Barat</td>\n",
       "      <td>106.796056</td>\n",
       "      <td>-6.153652</td>\n",
       "      <td>0</td>\n",
       "      <td>48.0</td>\n",
       "      <td>1</td>\n",
       "      <td>0</td>\n",
       "      <td>0</td>\n",
       "      <td>...</td>\n",
       "      <td>1</td>\n",
       "      <td>0</td>\n",
       "      <td>1</td>\n",
       "      <td>1</td>\n",
       "      <td>0</td>\n",
       "      <td>0</td>\n",
       "      <td>1</td>\n",
       "      <td>1</td>\n",
       "      <td>15</td>\n",
       "      <td>32000000.0</td>\n",
       "    </tr>\n",
       "    <tr>\n",
       "      <th>...</th>\n",
       "      <td>...</td>\n",
       "      <td>...</td>\n",
       "      <td>...</td>\n",
       "      <td>...</td>\n",
       "      <td>...</td>\n",
       "      <td>...</td>\n",
       "      <td>...</td>\n",
       "      <td>...</td>\n",
       "      <td>...</td>\n",
       "      <td>...</td>\n",
       "      <td>...</td>\n",
       "      <td>...</td>\n",
       "      <td>...</td>\n",
       "      <td>...</td>\n",
       "      <td>...</td>\n",
       "      <td>...</td>\n",
       "      <td>...</td>\n",
       "      <td>...</td>\n",
       "      <td>...</td>\n",
       "      <td>...</td>\n",
       "      <td>...</td>\n",
       "    </tr>\n",
       "    <tr>\n",
       "      <th>5178</th>\n",
       "      <td>2</td>\n",
       "      <td>Pekayon</td>\n",
       "      <td>Bekasi</td>\n",
       "      <td>106.993400</td>\n",
       "      <td>-6.243400</td>\n",
       "      <td>1</td>\n",
       "      <td>36.0</td>\n",
       "      <td>1</td>\n",
       "      <td>0</td>\n",
       "      <td>1</td>\n",
       "      <td>...</td>\n",
       "      <td>0</td>\n",
       "      <td>0</td>\n",
       "      <td>0</td>\n",
       "      <td>0</td>\n",
       "      <td>0</td>\n",
       "      <td>0</td>\n",
       "      <td>0</td>\n",
       "      <td>1</td>\n",
       "      <td>14</td>\n",
       "      <td>36000000.0</td>\n",
       "    </tr>\n",
       "    <tr>\n",
       "      <th>5179</th>\n",
       "      <td>0</td>\n",
       "      <td>BSD City</td>\n",
       "      <td>Tangerang</td>\n",
       "      <td>106.664000</td>\n",
       "      <td>-6.294400</td>\n",
       "      <td>1</td>\n",
       "      <td>32.0</td>\n",
       "      <td>1</td>\n",
       "      <td>1</td>\n",
       "      <td>1</td>\n",
       "      <td>...</td>\n",
       "      <td>1</td>\n",
       "      <td>0</td>\n",
       "      <td>1</td>\n",
       "      <td>1</td>\n",
       "      <td>0</td>\n",
       "      <td>0</td>\n",
       "      <td>0</td>\n",
       "      <td>1</td>\n",
       "      <td>16</td>\n",
       "      <td>60000000.0</td>\n",
       "    </tr>\n",
       "    <tr>\n",
       "      <th>5180</th>\n",
       "      <td>2</td>\n",
       "      <td>Setiabudi</td>\n",
       "      <td>Jakarta Selatan</td>\n",
       "      <td>106.829330</td>\n",
       "      <td>-6.216540</td>\n",
       "      <td>1</td>\n",
       "      <td>83.0</td>\n",
       "      <td>1</td>\n",
       "      <td>1</td>\n",
       "      <td>1</td>\n",
       "      <td>...</td>\n",
       "      <td>1</td>\n",
       "      <td>0</td>\n",
       "      <td>1</td>\n",
       "      <td>1</td>\n",
       "      <td>1</td>\n",
       "      <td>0</td>\n",
       "      <td>1</td>\n",
       "      <td>1</td>\n",
       "      <td>21</td>\n",
       "      <td>250000000.0</td>\n",
       "    </tr>\n",
       "    <tr>\n",
       "      <th>5181</th>\n",
       "      <td>2</td>\n",
       "      <td>Slipi</td>\n",
       "      <td>Jakarta Pusat</td>\n",
       "      <td>106.801738</td>\n",
       "      <td>-6.202296</td>\n",
       "      <td>1</td>\n",
       "      <td>68.0</td>\n",
       "      <td>1</td>\n",
       "      <td>1</td>\n",
       "      <td>1</td>\n",
       "      <td>...</td>\n",
       "      <td>1</td>\n",
       "      <td>1</td>\n",
       "      <td>1</td>\n",
       "      <td>1</td>\n",
       "      <td>1</td>\n",
       "      <td>1</td>\n",
       "      <td>1</td>\n",
       "      <td>1</td>\n",
       "      <td>24</td>\n",
       "      <td>108000000.0</td>\n",
       "    </tr>\n",
       "    <tr>\n",
       "      <th>5182</th>\n",
       "      <td>2</td>\n",
       "      <td>MT Haryono</td>\n",
       "      <td>Jakarta Timur</td>\n",
       "      <td>106.866201</td>\n",
       "      <td>-6.245201</td>\n",
       "      <td>1</td>\n",
       "      <td>42.0</td>\n",
       "      <td>1</td>\n",
       "      <td>1</td>\n",
       "      <td>1</td>\n",
       "      <td>...</td>\n",
       "      <td>1</td>\n",
       "      <td>0</td>\n",
       "      <td>1</td>\n",
       "      <td>1</td>\n",
       "      <td>0</td>\n",
       "      <td>0</td>\n",
       "      <td>1</td>\n",
       "      <td>1</td>\n",
       "      <td>20</td>\n",
       "      <td>108000000.0</td>\n",
       "    </tr>\n",
       "  </tbody>\n",
       "</table>\n",
       "<p>5183 rows × 31 columns</p>\n",
       "</div>"
      ],
      "text/plain": [
       "      No_Rooms      Locality           Region   Longitude  Latitude  \\\n",
       "0            1      Semanggi  Jakarta Selatan  106.819159 -6.226598   \n",
       "1            2   Kebon Jeruk    Jakarta Barat  106.756061 -6.192081   \n",
       "2            2        Kedoya    Jakarta Barat  106.757651 -6.186415   \n",
       "3            2  Pondok Indah  Jakarta Selatan  106.784600 -6.272637   \n",
       "4            2        Grogol    Jakarta Barat  106.796056 -6.153652   \n",
       "...        ...           ...              ...         ...       ...   \n",
       "5178         2       Pekayon           Bekasi  106.993400 -6.243400   \n",
       "5179         0      BSD City        Tangerang  106.664000 -6.294400   \n",
       "5180         2     Setiabudi  Jakarta Selatan  106.829330 -6.216540   \n",
       "5181         2         Slipi    Jakarta Pusat  106.801738 -6.202296   \n",
       "5182         2    MT Haryono    Jakarta Timur  106.866201 -6.245201   \n",
       "\n",
       "      Furnished  Area  AC  Water_Heater  Dining_Set  ...  Security  \\\n",
       "0             1  43.0   1             1           1  ...         1   \n",
       "1             0  35.0   1             0           0  ...         1   \n",
       "2             1  53.0   1             1           1  ...         1   \n",
       "3             1  85.0   1             1           1  ...         1   \n",
       "4             0  48.0   1             0           0  ...         1   \n",
       "...         ...   ...  ..           ...         ...  ...       ...   \n",
       "5178          1  36.0   1             0           1  ...         0   \n",
       "5179          1  32.0   1             1           1  ...         1   \n",
       "5180          1  83.0   1             1           1  ...         1   \n",
       "5181          1  68.0   1             1           1  ...         1   \n",
       "5182          1  42.0   1             1           1  ...         1   \n",
       "\n",
       "      Basketball  Multipurpose_Room  Gym  Jogging  Tennis  Restaurant  \\\n",
       "0              1                  1    1        1       1           1   \n",
       "1              0                  1    1        1       0           1   \n",
       "2              0                  1    1        1       0           1   \n",
       "3              1                  1    1        1       1           1   \n",
       "4              0                  1    1        0       0           1   \n",
       "...          ...                ...  ...      ...     ...         ...   \n",
       "5178           0                  0    0        0       0           0   \n",
       "5179           0                  1    1        0       0           0   \n",
       "5180           0                  1    1        1       0           1   \n",
       "5181           1                  1    1        1       1           1   \n",
       "5182           0                  1    1        0       0           1   \n",
       "\n",
       "      Playground  Total_Facilities  AnnualPrice  \n",
       "0              1                23   96000000.0  \n",
       "1              1                19   30000000.0  \n",
       "2              1                22   70000000.0  \n",
       "3              1                24  576000000.0  \n",
       "4              1                15   32000000.0  \n",
       "...          ...               ...          ...  \n",
       "5178           1                14   36000000.0  \n",
       "5179           1                16   60000000.0  \n",
       "5180           1                21  250000000.0  \n",
       "5181           1                24  108000000.0  \n",
       "5182           1                20  108000000.0  \n",
       "\n",
       "[5183 rows x 31 columns]"
      ]
     },
     "execution_count": 4,
     "metadata": {},
     "output_type": "execute_result"
    }
   ],
   "source": [
    "df_clean"
   ]
  },
  {
   "cell_type": "markdown",
   "metadata": {},
   "source": [
    "Last but not least, let's improvise a bit and try to add a 'Is it in Jakarta or not' column. It will be a value of '1' for apartment units in Jakarta, and '0' for apartment units in the satelite region of Jakarta (Bogor, Depok, Tangerang, Bekasi)."
   ]
  },
  {
   "cell_type": "code",
   "execution_count": 5,
   "metadata": {},
   "outputs": [],
   "source": [
    "Jakcheck = list()\n",
    "for region in df_clean.Region:\n",
    "    if 'Jakarta' in region:\n",
    "        Jakcheck.append(1)\n",
    "    else:\n",
    "        Jakcheck.append(0)\n",
    "        \n",
    "df_clean['Jakcheck'] = Jakcheck"
   ]
  },
  {
   "cell_type": "markdown",
   "metadata": {},
   "source": [
    "## Creating Baseline Model"
   ]
  },
  {
   "cell_type": "markdown",
   "metadata": {},
   "source": [
    "We'll create a baseline model straight away to have a rough model on our dataset before improving anything. If our further feature engineering causes our model to be worse than the baseline model, then we know the feature engineering we perform is not ideal.\n",
    "\n",
    "In this baseline model, we'll use one-time train test split (no cross validations) and create a simple Linear Regression."
   ]
  },
  {
   "cell_type": "code",
   "execution_count": 6,
   "metadata": {},
   "outputs": [],
   "source": [
    "X = df_clean[['No_Rooms', 'Longitude', 'Latitude', 'Furnished', 'Area', 'AC', 'Water_Heater', \n",
    "                    'Dining_Set', 'Bed', 'Kitchen', 'Fridge', \n",
    "                    'Washing_Machine', 'TV', 'ATM', 'TV_Cable', 'Grocery', 'Internet', 'Swim_Pool', \n",
    "                    'Laundry', 'Security', 'Basketball', 'Multipurpose_Room', 'Gym', \n",
    "                    'Jogging', 'Tennis','Restaurant', 'Playground', 'Total_Facilities', 'Jakcheck']]\n",
    "y = df_clean[['AnnualPrice']]"
   ]
  },
  {
   "cell_type": "code",
   "execution_count": 7,
   "metadata": {},
   "outputs": [],
   "source": [
    "from sklearn.model_selection import train_test_split\n",
    "X_train, X_test, y_train, y_test = train_test_split(X, y, test_size = 0.20, random_state = 23)"
   ]
  },
  {
   "cell_type": "code",
   "execution_count": 8,
   "metadata": {
    "scrolled": true
   },
   "outputs": [
    {
     "data": {
      "text/plain": [
       "Text(0, 0.5, 'predicted value')"
      ]
     },
     "execution_count": 8,
     "metadata": {},
     "output_type": "execute_result"
    },
    {
     "data": {
      "image/png": "[encoded data removed]",
      "text/plain": [
       "<Figure size 432x288 with 1 Axes>"
      ]
     },
     "metadata": {
      "needs_background": "light"
     },
     "output_type": "display_data"
    }
   ],
   "source": [
    "test_val = y_test['AnnualPrice'].to_numpy()\n",
    "lm = LinearRegression()\n",
    "lm.fit(X_train, y_train)\n",
    "predictions = lm.predict(X_test)\n",
    "plt.scatter(test_val, predictions)\n",
    "plt.xlabel('y_test')\n",
    "plt.ylabel('predicted value')"
   ]
  },
  {
   "cell_type": "code",
   "execution_count": null,
   "metadata": {},
   "outputs": [],
   "source": []
  },
  {
   "cell_type": "code",
   "execution_count": 9,
   "metadata": {
    "scrolled": true
   },
   "outputs": [
    {
     "name": "stdout",
     "output_type": "stream",
     "text": [
      "MAE: 29546141.91431634\n",
      "MSE: 2308342878032167.0\n",
      "RMSE: 48045217.0151428\n",
      "R2 Score: 0.7878343259922174\n"
     ]
    }
   ],
   "source": [
    "from sklearn import metrics\n",
    "print('MAE:', metrics.mean_absolute_error(test_val, predictions))\n",
    "print('MSE:', metrics.mean_squared_error(test_val, predictions))\n",
    "print('RMSE:', np.sqrt(metrics.mean_squared_error(test_val, predictions)))\n",
    "print('R2 Score:', metrics.r2_score(test_val, predictions))\n",
    "\n",
    "MAE_lm = metrics.mean_absolute_error(test_val, predictions)\n",
    "MSE_lm = metrics.mean_squared_error(test_val, predictions)\n",
    "RMSE_lm = np.sqrt(metrics.mean_squared_error(test_val, predictions))\n",
    "R2_lm = metrics.r2_score(test_val, predictions)"
   ]
  },
  {
   "cell_type": "code",
   "execution_count": 10,
   "metadata": {},
   "outputs": [
    {
     "name": "stderr",
     "output_type": "stream",
     "text": [
      "c:\\users\\grady\\appdata\\local\\programs\\python\\python38\\lib\\site-packages\\seaborn\\distributions.py:2551: FutureWarning: `distplot` is a deprecated function and will be removed in a future version. Please adapt your code to use either `displot` (a figure-level function with similar flexibility) or `histplot` (an axes-level function for histograms).\n",
      "  warnings.warn(msg, FutureWarning)\n"
     ]
    },
    {
     "data": {
      "text/plain": [
       "<AxesSubplot:ylabel='Density'>"
      ]
     },
     "execution_count": 10,
     "metadata": {},
     "output_type": "execute_result"
    },
    {
     "data": {
      "image/png": "[encoded data removed]",
      "text/plain": [
       "<Figure size 432x288 with 1 Axes>"
      ]
     },
     "metadata": {},
     "output_type": "display_data"
    }
   ],
   "source": [
    "sns.set_style(style = 'whitegrid')\n",
    "\n",
    "sns.distplot(test_val - predictions, bins = 50)"
   ]
  },
  {
   "cell_type": "markdown",
   "metadata": {},
   "source": [
    "Our baseline model surprisingly performs quite well. It managed to get a 78% R-squared score, with a relatively normal residual plot. What is R-squared and why should we care? R-squared measures the scatter of our data points around the fitted regression line. A high R-squared score represents that the observed data and fitted value have small differences. According to 'Statistics By Jim', who explained it ellegantly, R-squared is the percentage of the dependent variable variation that a linear model explains.\n",
    "\n",
    "(Cite: https://statisticsbyjim.com/regression/interpret-r-squared-regression/)"
   ]
  },
  {
   "cell_type": "code",
   "execution_count": 11,
   "metadata": {
    "scrolled": true
   },
   "outputs": [
    {
     "name": "stdout",
     "output_type": "stream",
     "text": [
      "                            OLS Regression Results                            \n",
      "==============================================================================\n",
      "Dep. Variable:            AnnualPrice   R-squared:                       0.767\n",
      "Model:                            OLS   Adj. R-squared:                  0.765\n",
      "Method:                 Least Squares   F-statistic:                     583.5\n",
      "Date:                Sun, 08 Nov 2020   Prob (F-statistic):               0.00\n",
      "Time:                        11:08:15   Log-Likelihood:                -98961.\n",
      "No. Observations:                5183   AIC:                         1.980e+05\n",
      "Df Residuals:                    5153   BIC:                         1.982e+05\n",
      "Df Model:                          29                                         \n",
      "Covariance Type:            nonrobust                                         \n",
      "=====================================================================================\n",
      "                        coef    std err          t      P>|t|      [0.025      0.975]\n",
      "-------------------------------------------------------------------------------------\n",
      "Intercept         -1.932e+09   1.21e+09     -1.601      0.109    -4.3e+09    4.33e+08\n",
      "No_Rooms          -1.271e+07   9.43e+05    -13.476      0.000   -1.46e+07   -1.09e+07\n",
      "Longitude         -1.728e+06   1.14e+07     -0.152      0.879    -2.4e+07    2.05e+07\n",
      "Latitude          -3.361e+08    1.6e+07    -21.015      0.000   -3.67e+08   -3.05e+08\n",
      "Furnished          1.982e+07   2.74e+06      7.224      0.000    1.44e+07    2.52e+07\n",
      "Area               2.118e+06   2.42e+04     87.582      0.000    2.07e+06    2.17e+06\n",
      "AC                -1.595e+06   4.35e+06     -0.366      0.714   -1.01e+07    6.94e+06\n",
      "Water_Heater       1.014e+07    2.6e+06      3.901      0.000    5.04e+06    1.52e+07\n",
      "Dining_Set         4.597e+06   2.97e+06      1.547      0.122   -1.23e+06    1.04e+07\n",
      "Bed               -2.011e+06   4.81e+06     -0.418      0.676   -1.14e+07    7.42e+06\n",
      "Kitchen            2.879e+06    4.6e+06      0.626      0.532   -6.14e+06    1.19e+07\n",
      "Fridge             8.804e+06   3.85e+06      2.288      0.022    1.26e+06    1.63e+07\n",
      "Washing_Machine    2.021e+07   2.53e+06      7.975      0.000    1.52e+07    2.52e+07\n",
      "TV                 1.183e+07   4.78e+06      2.476      0.013    2.46e+06    2.12e+07\n",
      "ATM               -3.985e+06   5.35e+06     -0.745      0.456   -1.45e+07     6.5e+06\n",
      "TV_Cable           9.642e+06   4.87e+06      1.979      0.048    8.88e+04    1.92e+07\n",
      "Grocery           -1.403e+06   3.69e+06     -0.381      0.703   -8.63e+06    5.82e+06\n",
      "Internet            1.14e+06   5.99e+06      0.190      0.849   -1.06e+07    1.29e+07\n",
      "Swim_Pool         -5.493e+06   6.26e+06     -0.877      0.380   -1.78e+07    6.78e+06\n",
      "Laundry            8.945e+06   4.27e+06      2.095      0.036    5.73e+05    1.73e+07\n",
      "Security          -1.838e+07    5.9e+06     -3.114      0.002   -2.99e+07   -6.81e+06\n",
      "Basketball         4.649e+06    2.7e+06      1.722      0.085   -6.42e+05    9.94e+06\n",
      "Multipurpose_Room  1.083e+07   3.97e+06      2.728      0.006    3.05e+06    1.86e+07\n",
      "Gym                1.202e+07   4.46e+06      2.696      0.007    3.28e+06    2.08e+07\n",
      "Jogging            5.702e+06    2.5e+06      2.283      0.022    8.07e+05    1.06e+07\n",
      "Tennis             3.861e+06   2.67e+06      1.447      0.148   -1.37e+06    9.09e+06\n",
      "Restaurant         1.264e+07   4.33e+06      2.917      0.004    4.14e+06    2.11e+07\n",
      "Playground         -1.23e+06   4.48e+06     -0.274      0.784      -1e+07    7.56e+06\n",
      "Total_Facilities  -3.642e+06   1.95e+06     -1.866      0.062   -7.47e+06    1.84e+05\n",
      "Jakcheck           2.535e+07   3.28e+06      7.721      0.000    1.89e+07    3.18e+07\n",
      "==============================================================================\n",
      "Omnibus:                     1985.081   Durbin-Watson:                   2.019\n",
      "Prob(Omnibus):                  0.000   Jarque-Bera (JB):            27199.764\n",
      "Skew:                           1.445   Prob(JB):                         0.00\n",
      "Kurtosis:                      13.844   Cond. No.                     2.28e+05\n",
      "==============================================================================\n",
      "\n",
      "Notes:\n",
      "[1] Standard Errors assume that the covariance matrix of the errors is correctly specified.\n",
      "[2] The condition number is large, 2.28e+05. This might indicate that there are\n",
      "strong multicollinearity or other numerical problems.\n"
     ]
    }
   ],
   "source": [
    "# compute with statsmodels, another way, using formula\n",
    "\n",
    "import statsmodels.formula.api as sm\n",
    "from statsmodels.stats.anova import anova_lm\n",
    "\n",
    "try:\n",
    "    result = sm.ols(formula=\"AnnualPrice ~ No_Rooms + Longitude + Latitude + Furnished + Area + AC + Water_Heater + Dining_Set + Bed + Kitchen + Fridge + Washing_Machine + TV + ATM + TV_Cable + Grocery + Internet + Swim_Pool + Laundry + Security + Basketball + Multipurpose_Room + Gym + Jogging + Tennis + Restaurant + Playground + Total_Facilities + Jakcheck\", data=df_clean).fit()\n",
    "    print(result.summary())\n",
    "except:\n",
    "    result = sm.ols(formula=\"AnnualPrice ~ No_Rooms + Longitude + Latitude + Furnished + Area + AC + Water_Heater + Dining_Set + Bed + Kitchen + Fridge + Washing_Machine + TV + ATM + TV_Cable + Grocery + Internet + Swim_Pool + Laundry + Security + Basketball + Multipurpose_Room + Gym + Jogging + Tennis + Restaurant + Playground + Total_Facilities + Jakcheck\", data=df_clean).fit()\n",
    "    print(result.summary())"
   ]
  },
  {
   "cell_type": "markdown",
   "metadata": {},
   "source": [
    "We can get a more detailed result from our regression when we use the statsmodels library. It might seem like a wall of text, but don't worry - we'll look at what we can derive from this result.\n",
    "\n",
    "- R-Squared and Adjusted R-Squared are fairly similar. Adjusted R-Squared is always lower than R-Squared because it penalizes the model if the model uses features which are not significant. So, for example, if we add another insignificant feature to the model, the Adjusted R-Squared will decrease, while R-Squared will mostly stay the same or increase. If the model's Adjusted R-Squared is way below the R-Squared, it means there are a lot of insignificant features. Fortunately for us, that doesn't seem to be the case.\n",
    "\n",
    "\n",
    "- We have a 0 p-value of the F-statistic. In plain English, the F-statistic tests whether there is a significant linear relation between our features (independent variables) and our target (dependent variable). The null hypothesis is that there is no relation ebtween our features and our target, meaning the regression model arrives at such result by chance. When the p-value is 0 (or below alpha, which is usually 0.05), we can reject the null hypothesis, and assure ourselves that our model fits the data well because indeed - there are linear relations between our features and our target.\n",
    "\n",
    "\n",
    "- In the central table, there is a list of our features. The column 'coefficient' tells us what each feature's coefficients are. Remember that these coefficients explain the relation of our feature to our target variable. Aside from thee 'coefficient' column, we also have 't' column. This 't' column is the t-statistic of each feature in yet another statistical test. The null hypothesis of this t-test is that the coefficient of our feature is 0 (which means our feature does not have a significant relationship to our target variable). The alternate hypothesis is that the coefficient of our feature is not 0. A p-value of less than alpha (usually 0.05) means that we can reject the null hypothesis. Let's look at the 'Area' feature for example. The p-value for the 'Area' feature is 0, which means we are sure that the coefficient of 'Area' feature is indeed 2.086e+06, and it has a significant relationship with our target variable. However, if we look at the Dining_Set feature, its p-value is more than 0.9. We can't reject the null hypothesis on that. Thus, we can say that we are unsure that the presence of dining set at an apartment has a significant relationship on its annual rent price.\n",
    "\n",
    "\n",
    "- In the lower part of the summary, we can see that our model has a skew around 1.5. This means the residual of our model, which seems to be normal, isn't actually centered and it's a bit skewed. Normality of the residuals is an assumption of running a linear model. So, if the residuals are normal, it means that our assumption is valid and model inference (confidence intervals, model predictions) should also be valid. Don't worry - this doesn't mean that our model is entirely invalid - we still have a lot of room for improvement, and the skew is still in single digit.\n",
    "\n",
    "\n",
    "- The second point of the note tells us that it suspects our model to have multicolinearity issue. What is that? We'll discuss it further in the next part."
   ]
  },
  {
   "cell_type": "markdown",
   "metadata": {},
   "source": [
    "Just for curiosity's sake, let's create a regression model based on only the variables which we think would matter the most."
   ]
  },
  {
   "cell_type": "code",
   "execution_count": 12,
   "metadata": {},
   "outputs": [
    {
     "name": "stdout",
     "output_type": "stream",
     "text": [
      "                            OLS Regression Results                            \n",
      "==============================================================================\n",
      "Dep. Variable:            AnnualPrice   R-squared:                       0.755\n",
      "Model:                            OLS   Adj. R-squared:                  0.755\n",
      "Method:                 Least Squares   F-statistic:                     2278.\n",
      "Date:                Sun, 08 Nov 2020   Prob (F-statistic):               0.00\n",
      "Time:                        11:08:15   Log-Likelihood:                -99087.\n",
      "No. Observations:                5183   AIC:                         1.982e+05\n",
      "Df Residuals:                    5175   BIC:                         1.982e+05\n",
      "Df Model:                           7                                         \n",
      "Covariance Type:            nonrobust                                         \n",
      "====================================================================================\n",
      "                       coef    std err          t      P>|t|      [0.025      0.975]\n",
      "------------------------------------------------------------------------------------\n",
      "Intercept        -1.171e+08   1.15e+09     -0.102      0.919   -2.37e+09    2.14e+09\n",
      "No_Rooms         -1.334e+07   9.35e+05    -14.272      0.000   -1.52e+07   -1.15e+07\n",
      "Longitude        -1.938e+07   1.09e+07     -1.784      0.075   -4.07e+07    1.92e+06\n",
      "Latitude         -3.409e+08    1.6e+07    -21.337      0.000   -3.72e+08    -3.1e+08\n",
      "Furnished         2.402e+07    2.1e+06     11.413      0.000    1.99e+07    2.81e+07\n",
      "Total_Facilities  7.176e+05   2.14e+05      3.360      0.001    2.99e+05    1.14e+06\n",
      "Area              2.208e+06   2.29e+04     96.446      0.000    2.16e+06    2.25e+06\n",
      "Jakcheck          3.624e+07   2.87e+06     12.645      0.000    3.06e+07    4.19e+07\n",
      "==============================================================================\n",
      "Omnibus:                     1864.688   Durbin-Watson:                   2.024\n",
      "Prob(Omnibus):                  0.000   Jarque-Bera (JB):            24795.512\n",
      "Skew:                           1.340   Prob(JB):                         0.00\n",
      "Kurtosis:                      13.374   Cond. No.                     2.13e+05\n",
      "==============================================================================\n",
      "\n",
      "Notes:\n",
      "[1] Standard Errors assume that the covariance matrix of the errors is correctly specified.\n",
      "[2] The condition number is large, 2.13e+05. This might indicate that there are\n",
      "strong multicollinearity or other numerical problems.\n"
     ]
    }
   ],
   "source": [
    "# compute with statsmodels, another way, using formula\n",
    "\n",
    "import statsmodels.formula.api as sm\n",
    "from statsmodels.stats.anova import anova_lm\n",
    "\n",
    "result_2 = sm.ols(formula=\"AnnualPrice ~ No_Rooms + Longitude + Latitude + Furnished + Total_Facilities + Area + Jakcheck\", data=df_clean).fit()\n",
    "print(result_2.summary())"
   ]
  },
  {
   "cell_type": "markdown",
   "metadata": {},
   "source": [
    "In terms of accuracy (in which we use the R-squared metric), it goes down about 2 percent, but all of our variables have good p-value, except for Longitude and Intercept, surprisingly."
   ]
  },
  {
   "cell_type": "markdown",
   "metadata": {},
   "source": [
    "## Checking for Correlation"
   ]
  },
  {
   "cell_type": "markdown",
   "metadata": {},
   "source": [
    "Let's discuss briefly the danger of multicolinearity. Multicolinearity is an issue when multiple independent variables are correlated to each other. Why is this an issue? \n",
    "\n",
    "Regression analysis requires us to isolate the relationship between each independent variable and dependent variable. For example, in a very simple example, let's imagine a regression between two variables, x1 and x2.\n",
    "\n",
    "Y = 5X1 - 3X2\n",
    "\n",
    "How we interpret the '5' coefficient of X1 is the following:\n",
    "\n",
    "When everything else stays constant, an increment of 1 unit in X1 causes an increment of 5 unit of Y variable. We often disregard the first phrase that says 'when everything else stays constant'. If X1 is not correlated to X2, then an increment of 1 unit of X1 causes the 'Y' variable to increase by 5, because the X2 doesn't change at all. This is good - because the coefficient of '5' clearly explains the relationship between X1 and Y. \n",
    "\n",
    "If X1 is highly correlated to X2, then an increment of 1 unit of X1 will also cause X2 to change. This will make the 'Y' variable's movement not equal to 5 (the coefficient of X1). Therefore, the coefficient of '5' does not explain the relationship between X1 and Y.\n",
    "\n",
    "When we have multicolinearity, we don't have confidence in the coefficients of each independent variables. We don't know if those coefficients show the true relationship of those variables and the predicted variable. And thus, we can't really be sure on which independent variables are most affecting the target/predicted variable. \n",
    "\n",
    "This causes problem when we want to predict the Y model when we put aritrary values of X1 and X2. For example, wan X1 of 4 and X2 of 2 will result in Y = 5*4 - 3*2 = 20 - 6 = 14. Then, when we change X1 to 6, our predicted variable should increase by 10 units. This is the case if X1 and X2 are independent. However, if X1 and X2 are correlated, when we change X1 to 6, X2 will also change. This will result in our prediction not representing the accurate reality of the problem.\n",
    "\n",
    "However, multicolinearity might not be a problem if:\n",
    "- we have small to moderate multicolinearity. \n",
    "- only a small portion of our variables are having multicolinearity issues with one another. If we have 10 independent variables, and only 3 of them are correlated to each other, then the multicolinearity only persits in those 3 variables - the other seven variables are fine\n",
    "- our goal is to only create prediction. If we don't really need to analyze the variables at the end of our project, and we just care about predictions, we don't really need to make a fuss about multicolinearity\n",
    "\n",
    "So here's what we're gonna do on this project.\n",
    "\n",
    "Referring to the problem statement, we would like to have a clear regression model which can explain relationships between independent variables and the tarrget variable if possible. However, if we can't avoid multicolinearity, we'll look over it and just focus on our predictions."
   ]
  },
  {
   "cell_type": "code",
   "execution_count": 13,
   "metadata": {},
   "outputs": [
    {
     "data": {
      "text/plain": [
       "<AxesSubplot:>"
      ]
     },
     "execution_count": 13,
     "metadata": {},
     "output_type": "execute_result"
    },
    {
     "data": {
      "image/png": "[encoded data removed]",
      "text/plain": [
       "<Figure size 1080x1080 with 2 Axes>"
      ]
     },
     "metadata": {},
     "output_type": "display_data"
    }
   ],
   "source": [
    "corr = df_clean.corr()\n",
    "plt.subplots(figsize=(15,15))\n",
    "sns.heatmap(corr, vmax=0.9, cmap=\"Blues\", square=True)"
   ]
  },
  {
   "cell_type": "markdown",
   "metadata": {},
   "source": [
    "Using seaborn heatmap, we can visualize which of our variables have high correlation with each other. After looking at the heatmap above, there are some insights we can derive. First, our dependent variable, 'AnnualPrice', has a high correlation with the columns 'No_Rooms', 'Area' and surprisingly, the existenec of 'Water_Heater' and 'Washing_Machine'. \n",
    "\n",
    "Second, there are four 'groups' of facility variables which are highly correlated to each other. These groups are:\n",
    "- The first group: 'AC', 'Water_Heater', 'Dining_Set', 'Bed', 'Kitchen', 'Fridge', as well as 'Furnished' variable\n",
    "- The second group: 'TV', 'ATM', 'TV_Cable', 'Grocery', 'Internet', 'Laundry', 'Security', 'Multipurpose_Room', 'Restaurant' and 'Playground'\n",
    "- The third group: 'Swim_Pool', 'Gym', \n",
    "- The fourth group comprises of: 'Tennis', 'Jogging', 'Basketball'\n",
    "\n",
    "For example, an apartment unit that has 'Water_Heater' most likely also has 'Dining_Set', 'Electricity', 'Bed', and the facilities in the first group. And another apartment unit which has 'Swim_Pool' most likely also has 'Gym'. Surprisingly, the facility 'Washing_Machine' stands on its own ground for the most part - and only correlates highly to 'Water_Heater' and 'AnnualPrice'. \n",
    "\n",
    "A strange thing to note is that 'No_Rooms' have high correlation with 'Area', but don't their p-values are equal to 0 in the four-variable regression? This might seem weird, but we'll get to the bottom of this in a few more steps.\n",
    "\n",
    "What should we do now? We can create four groups of facilities based on their correlation map above. Then, sum the '0s' and '1s' of the feature in the same group. Use these four sums as numerical variables, and discard all other singular columns of facilities and 'Total_Facilities'. \n"
   ]
  },
  {
   "cell_type": "code",
   "execution_count": 14,
   "metadata": {},
   "outputs": [],
   "source": [
    "Group1 = df_clean.AC + df_clean.Water_Heater + df_clean.Dining_Set + df_clean.Bed + df_clean.Kitchen + df_clean.Fridge + df_clean.Furnished\n",
    "Group2 = df_clean.TV + df_clean.ATM + df_clean.TV_Cable + df_clean.Grocery + df_clean.Internet + df_clean.Laundry + df_clean.Security + df_clean.Multipurpose_Room + df_clean.Restaurant + df_clean.Playground\n",
    "Group3 = df_clean.Swim_Pool + df_clean.Gym\n",
    "Group4 = df_clean.Tennis + df_clean.Jogging + df_clean.Basketball\n",
    "\n",
    "df_clean['Group1'] = Group1\n",
    "df_clean['Group2'] = Group2\n",
    "df_clean['Group3'] = Group3\n",
    "df_clean['Group4'] = Group4"
   ]
  },
  {
   "cell_type": "markdown",
   "metadata": {},
   "source": [
    "We're going to do another linear regression but we replace the grouped units with Group1, Group2, Group3, and Group4. "
   ]
  },
  {
   "cell_type": "code",
   "execution_count": 15,
   "metadata": {},
   "outputs": [
    {
     "name": "stdout",
     "output_type": "stream",
     "text": [
      "                            OLS Regression Results                            \n",
      "==============================================================================\n",
      "Dep. Variable:            AnnualPrice   R-squared:                       0.744\n",
      "Model:                            OLS   Adj. R-squared:                  0.743\n",
      "Method:                 Least Squares   F-statistic:                     1877.\n",
      "Date:                Sun, 08 Nov 2020   Prob (F-statistic):               0.00\n",
      "Time:                        11:08:15   Log-Likelihood:                -99203.\n",
      "No. Observations:                5183   AIC:                         1.984e+05\n",
      "Df Residuals:                    5174   BIC:                         1.985e+05\n",
      "Df Model:                           8                                         \n",
      "Covariance Type:            nonrobust                                         \n",
      "==============================================================================\n",
      "                 coef    std err          t      P>|t|      [0.025      0.975]\n",
      "------------------------------------------------------------------------------\n",
      "Intercept  -4.326e+09   1.15e+09     -3.754      0.000   -6.58e+09   -2.07e+09\n",
      "No_Rooms   -1.287e+07    9.6e+05    -13.405      0.000   -1.48e+07    -1.1e+07\n",
      "Longitude   2.394e+07   1.08e+07      2.224      0.026    2.84e+06     4.5e+07\n",
      "Latitude   -2.765e+08   1.51e+07    -18.349      0.000   -3.06e+08   -2.47e+08\n",
      "Group1      4.069e+06   3.75e+05     10.863      0.000    3.33e+06     4.8e+06\n",
      "Group2      1.096e+06   3.32e+05      3.304      0.001    4.46e+05    1.75e+06\n",
      "Group3      4.804e+06   2.12e+06      2.265      0.024    6.46e+05    8.96e+06\n",
      "Group4        3.2e+06   6.54e+05      4.892      0.000    1.92e+06    4.48e+06\n",
      "Area        2.232e+06   2.35e+04     95.130      0.000    2.19e+06    2.28e+06\n",
      "==============================================================================\n",
      "Omnibus:                     1773.739   Durbin-Watson:                   2.028\n",
      "Prob(Omnibus):                  0.000   Jarque-Bera (JB):            23066.820\n",
      "Skew:                           1.262   Prob(JB):                         0.00\n",
      "Kurtosis:                      13.022   Cond. No.                     2.06e+05\n",
      "==============================================================================\n",
      "\n",
      "Notes:\n",
      "[1] Standard Errors assume that the covariance matrix of the errors is correctly specified.\n",
      "[2] The condition number is large, 2.06e+05. This might indicate that there are\n",
      "strong multicollinearity or other numerical problems.\n"
     ]
    }
   ],
   "source": [
    "import statsmodels.formula.api as sm\n",
    "from statsmodels.stats.anova import anova_lm\n",
    "\n",
    "result_grouped = sm.ols(formula=\"AnnualPrice ~ No_Rooms + Longitude + Latitude + Group1 + Group2 + Group3 + Group4 + Area\", data=df_clean).fit()\n",
    "print(result_grouped.summary())"
   ]
  },
  {
   "cell_type": "markdown",
   "metadata": {},
   "source": [
    "On the bright side, all features' p-values are below 0.05, which means that all of our features are significant. However, our accuracy didn't improve. So we now have 3 models:\n",
    "- A model with 76% R squared score with lots of features having p-value above 0.05\n",
    "- A model with 74.7% R squared score with one feature & the intercept having p-value above 0.05 \n",
    "- A model with 74.2% R squared score with no features having p-value above 0.05\n",
    "\n",
    "We'll try to scale the numerical data and see if we can do further regularizations with linear regression and obtain a better result."
   ]
  },
  {
   "cell_type": "code",
   "execution_count": null,
   "metadata": {},
   "outputs": [],
   "source": []
  },
  {
   "cell_type": "markdown",
   "metadata": {},
   "source": [
    "## Feature Scaling"
   ]
  },
  {
   "cell_type": "markdown",
   "metadata": {},
   "source": [
    "Most of the times, numerical features in our model comes in different magnitudes and distribution. For example, a simple model predicting the weight of a shopping bag has number of items bought and money spent as its predictor. If we add one more item to our shopping bag, it would definitely affect the weight of the whole bag immediately. However, if we add one more rupiah to the amount of money spent (or even hundreds of rupiah), chances are the weight of the bag does not change (as one item in most grocery shops costs more than one thousand rupiah). However, our model won't be able to recognize the context of these predictors - it just views them as floats/integers. \n",
    "\n",
    "Machine learning models which uses distance such as K-Nearest Neighbors, Gradient Descent, etc, benefited heavily from feature scaling.Since we're doing l1 and l2 regularization by creating Lasso, Ridge, and ElasticNet regression model, it's best to scale our data first before doing any regularization.\n",
    "\n",
    "Let's begin this step by visualizing (again) the distribution of our numerical features - 'Area', 'Longitude', and 'Latitude'."
   ]
  },
  {
   "cell_type": "code",
   "execution_count": 16,
   "metadata": {
    "scrolled": false
   },
   "outputs": [
    {
     "data": {
      "text/plain": [
       "<AxesSubplot:xlabel='Area', ylabel='Density'>"
      ]
     },
     "execution_count": 16,
     "metadata": {},
     "output_type": "execute_result"
    },
    {
     "data": {
      "image/png": "[encoded data removed]",
      "text/plain": [
       "<Figure size 432x288 with 1 Axes>"
      ]
     },
     "metadata": {},
     "output_type": "display_data"
    }
   ],
   "source": [
    "sns.kdeplot(df_clean.Area)"
   ]
  },
  {
   "cell_type": "code",
   "execution_count": 17,
   "metadata": {},
   "outputs": [
    {
     "data": {
      "text/plain": [
       "<AxesSubplot:xlabel='Longitude', ylabel='Density'>"
      ]
     },
     "execution_count": 17,
     "metadata": {},
     "output_type": "execute_result"
    },
    {
     "data": {
      "image/png": "[encoded data removed]",
      "text/plain": [
       "<Figure size 432x288 with 1 Axes>"
      ]
     },
     "metadata": {},
     "output_type": "display_data"
    }
   ],
   "source": [
    "sns.kdeplot(df_clean.Longitude)"
   ]
  },
  {
   "cell_type": "code",
   "execution_count": 18,
   "metadata": {
    "scrolled": true
   },
   "outputs": [
    {
     "data": {
      "text/plain": [
       "<AxesSubplot:xlabel='Latitude', ylabel='Density'>"
      ]
     },
     "execution_count": 18,
     "metadata": {},
     "output_type": "execute_result"
    },
    {
     "data": {
      "image/png": "[encoded data removed]",
      "text/plain": [
       "<Figure size 432x288 with 1 Axes>"
      ]
     },
     "metadata": {},
     "output_type": "display_data"
    }
   ],
   "source": [
    "sns.kdeplot(df_clean.Latitude)"
   ]
  },
  {
   "cell_type": "code",
   "execution_count": 19,
   "metadata": {},
   "outputs": [],
   "source": [
    "def scale(data, add=0):\n",
    "    boxcox = boxcox1p(data + add, boxcox_normmax(data + add + 1))\n",
    "    result = (boxcox-min(boxcox))/(max(boxcox)-min(boxcox))\n",
    "    return(result)"
   ]
  },
  {
   "cell_type": "code",
   "execution_count": null,
   "metadata": {},
   "outputs": [],
   "source": []
  },
  {
   "cell_type": "code",
   "execution_count": 20,
   "metadata": {},
   "outputs": [],
   "source": [
    "Scaled_Lat = scale(df_clean['Latitude'], add = 7)\n",
    "Scaled_Lon = scale(df_clean['Longitude'], add = 0)\n",
    "Scaled_Area = scale(df_clean['Area'], add = 0)\n",
    "Scaled_Norooms = scale(df_clean['No_Rooms'], add = 1)\n",
    "\n",
    "df_clean['Scaled_Lat'] = Scaled_Lat\n",
    "df_clean['Scaled_Lon'] = Scaled_Lon\n",
    "df_clean['Scaled_Area'] = Scaled_Area\n",
    "df_clean['Scaled_Norooms'] = Scaled_Norooms"
   ]
  },
  {
   "cell_type": "markdown",
   "metadata": {},
   "source": [
    "As an example of how these scaling work, let's see the distribution of Scaled_Area"
   ]
  },
  {
   "cell_type": "code",
   "execution_count": 21,
   "metadata": {},
   "outputs": [
    {
     "data": {
      "text/plain": [
       "<AxesSubplot:xlabel='Area', ylabel='Density'>"
      ]
     },
     "execution_count": 21,
     "metadata": {},
     "output_type": "execute_result"
    },
    {
     "data": {
      "image/png": "[encoded data removed]",
      "text/plain": [
       "<Figure size 432x288 with 1 Axes>"
      ]
     },
     "metadata": {},
     "output_type": "display_data"
    }
   ],
   "source": [
    "sns.kdeplot(Scaled_Area)"
   ]
  },
  {
   "cell_type": "code",
   "execution_count": null,
   "metadata": {},
   "outputs": [],
   "source": []
  },
  {
   "cell_type": "code",
   "execution_count": 22,
   "metadata": {
    "scrolled": true
   },
   "outputs": [
    {
     "data": {
      "text/plain": [
       "Index(['No_Rooms', 'Locality', 'Region', 'Longitude', 'Latitude', 'Furnished',\n",
       "       'Area', 'AC', 'Water_Heater', 'Dining_Set', 'Bed', 'Kitchen', 'Fridge',\n",
       "       'Washing_Machine', 'TV', 'ATM', 'TV_Cable', 'Grocery', 'Internet',\n",
       "       'Swim_Pool', 'Laundry', 'Security', 'Basketball', 'Multipurpose_Room',\n",
       "       'Gym', 'Jogging', 'Tennis', 'Restaurant', 'Playground',\n",
       "       'Total_Facilities', 'AnnualPrice', 'Jakcheck', 'Group1', 'Group2',\n",
       "       'Group3', 'Group4', 'Scaled_Lat', 'Scaled_Lon', 'Scaled_Area',\n",
       "       'Scaled_Norooms'],\n",
       "      dtype='object')"
      ]
     },
     "execution_count": 22,
     "metadata": {},
     "output_type": "execute_result"
    }
   ],
   "source": [
    "df_clean.columns"
   ]
  },
  {
   "cell_type": "code",
   "execution_count": 23,
   "metadata": {},
   "outputs": [],
   "source": [
    "lm_elasticnet = ElasticNet()\n",
    "\n",
    "lm_lasso = Lasso()\n",
    "lm_ridge = Ridge()"
   ]
  },
  {
   "cell_type": "code",
   "execution_count": null,
   "metadata": {},
   "outputs": [],
   "source": []
  },
  {
   "cell_type": "code",
   "execution_count": null,
   "metadata": {},
   "outputs": [],
   "source": []
  },
  {
   "cell_type": "code",
   "execution_count": 24,
   "metadata": {},
   "outputs": [
    {
     "name": "stdout",
     "output_type": "stream",
     "text": [
      "MAE: 30395800.309556354\n",
      "MSE: 2581438429281655.0\n",
      "RMSE: 50807857.9481723\n",
      "R2 Score: 0.7627334182151332\n"
     ]
    }
   ],
   "source": [
    "#ElasticNet Evaluation\n",
    "lm_elasticnet.fit(X_train, y_train)\n",
    "predictions = lm_elasticnet.predict(X_test)\n",
    "test_val = y_test.AnnualPrice.to_numpy()\n",
    "from sklearn import metrics\n",
    "print('MAE:', metrics.mean_absolute_error(test_val, predictions))\n",
    "print('MSE:', metrics.mean_squared_error(test_val, predictions))\n",
    "print('RMSE:', np.sqrt(metrics.mean_squared_error(test_val, predictions)))\n",
    "print('R2 Score:', metrics.r2_score(test_val, predictions))"
   ]
  },
  {
   "cell_type": "code",
   "execution_count": 25,
   "metadata": {},
   "outputs": [
    {
     "name": "stdout",
     "output_type": "stream",
     "text": [
      "MAE: 29546130.896945063\n",
      "MSE: 2308342478850902.0\n",
      "RMSE: 48045212.86091781\n",
      "R2 Score: 0.7878343626819843\n"
     ]
    },
    {
     "name": "stderr",
     "output_type": "stream",
     "text": [
      "c:\\users\\grady\\appdata\\local\\programs\\python\\python38\\lib\\site-packages\\sklearn\\linear_model\\_coordinate_descent.py:529: ConvergenceWarning: Objective did not converge. You might want to increase the number of iterations. Duality gap: 2.1098481875277824e+16, tolerance: 3864468980189401.5\n",
      "  model = cd_fast.enet_coordinate_descent(\n"
     ]
    }
   ],
   "source": [
    "#Lasso Evaluation\n",
    "lm_lasso.fit(X_train, y_train)\n",
    "predictions = lm_lasso.predict(X_test)\n",
    "test_val = y_test.AnnualPrice.to_numpy()\n",
    "from sklearn import metrics\n",
    "print('MAE:', metrics.mean_absolute_error(test_val, predictions))\n",
    "print('MSE:', metrics.mean_squared_error(test_val, predictions))\n",
    "print('RMSE:', np.sqrt(metrics.mean_squared_error(test_val, predictions)))\n",
    "print('R2 Score:', metrics.r2_score(test_val, predictions))"
   ]
  },
  {
   "cell_type": "code",
   "execution_count": 26,
   "metadata": {},
   "outputs": [
    {
     "name": "stdout",
     "output_type": "stream",
     "text": [
      "MAE: 29280066.900174823\n",
      "MSE: 2302552286210119.0\n",
      "RMSE: 47984917.27835028\n",
      "R2 Score: 0.7883665540370719\n"
     ]
    }
   ],
   "source": [
    "#Ridge Evaluation\n",
    "lm_ridge.fit(X_train, y_train)\n",
    "predictions = lm_ridge.predict(X_test)\n",
    "test_val = y_test.AnnualPrice.to_numpy()\n",
    "from sklearn import metrics\n",
    "print('MAE:', metrics.mean_absolute_error(test_val, predictions))\n",
    "print('MSE:', metrics.mean_squared_error(test_val, predictions))\n",
    "print('RMSE:', np.sqrt(metrics.mean_squared_error(test_val, predictions)))\n",
    "print('R2 Score:', metrics.r2_score(test_val, predictions))"
   ]
  },
  {
   "cell_type": "markdown",
   "metadata": {},
   "source": [
    "It seems that our ElasticNet, Lasso, and Ridge regression does not improve our model that much. Let's try another algorithm called Extreme Gradient Boosting, or in short, XGBoost."
   ]
  },
  {
   "cell_type": "markdown",
   "metadata": {},
   "source": [
    "## XGBoost\n",
    "\n",
    "XGBoost is a gradient boosted decision trees algorithm which has dominated Kaggle in recent years. Unlike Linear Regression, it does not have to be scaled, and it can handle multicolinearity better since by its nature, decision trees are immune to multicolinearity. However, it will not yield an outcome which can be interpreted as clear as Linear Regression. It doesn't have any explicit coefficient which can further be tested with t-test and calculate it's p-value.\n",
    "\n",
    "XGBoost also has a feature selector algorithm built into scikit-learn, in which it will try out multiple combinations of features, and tell us which features are the most important (as well as which features are not important)."
   ]
  },
  {
   "cell_type": "code",
   "execution_count": 27,
   "metadata": {},
   "outputs": [],
   "source": [
    "X = df_clean[['No_Rooms', 'Longitude', 'Latitude', 'Furnished', 'Area',\n",
    "             'AC', 'Water_Heater', 'Dining_Set', 'Bed', 'Kitchen',\n",
    "             'Fridge', 'Washing_Machine', 'TV', 'ATM', 'TV_Cable', 'Grocery', 'Internet', 'Swim_Pool', \n",
    "              'Laundry', 'Security','Basketball', 'Multipurpose_Room', 'Gym', 'Jogging', 'Tennis',\n",
    "              'Restaurant', 'Playground', 'Jakcheck']]\n",
    "y = df_clean[['AnnualPrice']]"
   ]
  },
  {
   "cell_type": "code",
   "execution_count": 28,
   "metadata": {},
   "outputs": [],
   "source": [
    "train_labels = list()\n",
    "for _ in y.AnnualPrice:\n",
    "    train_labels.append(_)"
   ]
  },
  {
   "cell_type": "code",
   "execution_count": null,
   "metadata": {},
   "outputs": [],
   "source": []
  },
  {
   "cell_type": "code",
   "execution_count": 29,
   "metadata": {},
   "outputs": [],
   "source": [
    "kf = KFold(n_splits=12, random_state=42, shuffle=True)\n",
    "def rmsle(y, y_pred):\n",
    "    return np.sqrt(mean_squared_error(y, y_pred))\n",
    "\n",
    "def cv_r2(model, X=X, y=y):\n",
    "    r2 = cross_val_score(model, X, y, scoring=\"r2\", cv=kf)\n",
    "    return (r2)"
   ]
  },
  {
   "cell_type": "code",
   "execution_count": 30,
   "metadata": {},
   "outputs": [],
   "source": [
    "xgboost = XGBRegressor()"
   ]
  },
  {
   "cell_type": "code",
   "execution_count": 31,
   "metadata": {},
   "outputs": [
    {
     "name": "stdout",
     "output_type": "stream",
     "text": [
      "xgboost: 0.8988 (0.0197)\n"
     ]
    }
   ],
   "source": [
    "score = cv_r2(xgboost, X, y)\n",
    "print(\"xgboost: {:.4f} ({:.4f})\".format(score.mean(), score.std()))"
   ]
  },
  {
   "cell_type": "markdown",
   "metadata": {},
   "source": [
    "Without any scaling and/or multicolinearity testing, we achieved an average R-squared score of 89.83 percent. This is much better than what we have previously with linear regression models. Next, we'll try to use RFECV to select our features."
   ]
  },
  {
   "cell_type": "markdown",
   "metadata": {},
   "source": [
    "## Feature Selection for XGBoost"
   ]
  },
  {
   "cell_type": "code",
   "execution_count": 32,
   "metadata": {},
   "outputs": [],
   "source": [
    "from sklearn.feature_selection import RFECV\n",
    "from xgboost.sklearn import XGBRegressor\n",
    "import sklearn.metrics\n",
    "from sklearn.metrics import mean_absolute_error\n",
    "\n",
    "estimator = XGBRegressor()\n",
    "selector = RFECV(estimator, step=1, min_features_to_select=1, cv=10, scoring='neg_mean_absolute_error')\n",
    "selector = selector.fit(X, train_labels)"
   ]
  },
  {
   "cell_type": "markdown",
   "metadata": {},
   "source": []
  },
  {
   "cell_type": "code",
   "execution_count": 33,
   "metadata": {},
   "outputs": [
    {
     "data": {
      "image/png": "[encoded data removed]",
      "text/plain": [
       "<Figure size 432x288 with 1 Axes>"
      ]
     },
     "metadata": {},
     "output_type": "display_data"
    }
   ],
   "source": [
    "plt.figure()\n",
    "plt.xlabel(\"Number of features selected\")\n",
    "plt.ylabel(\"Cross validation score (nb of correct classifications)\")\n",
    "plt.plot(range(1, len(selector.grid_scores_) + 1), selector.grid_scores_)\n",
    "plt.show()"
   ]
  },
  {
   "cell_type": "code",
   "execution_count": 34,
   "metadata": {},
   "outputs": [
    {
     "data": {
      "text/plain": [
       "RFECV(cv=10,\n",
       "      estimator=XGBRegressor(base_score=None, booster=None,\n",
       "                             colsample_bylevel=None, colsample_bynode=None,\n",
       "                             colsample_bytree=None, gamma=None, gpu_id=None,\n",
       "                             importance_type='gain',\n",
       "                             interaction_constraints=None, learning_rate=None,\n",
       "                             max_delta_step=None, max_depth=None,\n",
       "                             min_child_weight=None, missing=nan,\n",
       "                             monotone_constraints=None, n_estimators=100,\n",
       "                             n_jobs=None, num_parallel_tree=None,\n",
       "                             random_state=None, reg_alpha=None, reg_lambda=None,\n",
       "                             scale_pos_weight=None, subsample=None,\n",
       "                             tree_method=None, validate_parameters=None,\n",
       "                             verbosity=None),\n",
       "      scoring='neg_mean_absolute_error')"
      ]
     },
     "execution_count": 34,
     "metadata": {},
     "output_type": "execute_result"
    }
   ],
   "source": [
    "selector"
   ]
  },
  {
   "cell_type": "code",
   "execution_count": 35,
   "metadata": {},
   "outputs": [
    {
     "data": {
      "text/plain": [
       "array([ True,  True,  True,  True,  True,  True,  True, False, False,\n",
       "        True,  True,  True, False, False, False,  True, False,  True,\n",
       "       False, False,  True,  True, False,  True,  True,  True,  True,\n",
       "        True])"
      ]
     },
     "execution_count": 35,
     "metadata": {},
     "output_type": "execute_result"
    }
   ],
   "source": [
    "selector.support_"
   ]
  },
  {
   "cell_type": "code",
   "execution_count": 36,
   "metadata": {},
   "outputs": [
    {
     "data": {
      "text/plain": [
       "array([ 1,  1,  1,  1,  1,  1,  1,  3,  5,  1,  1,  1,  2,  4,  7,  1, 10,\n",
       "        1,  9,  8,  1,  1,  6,  1,  1,  1,  1,  1])"
      ]
     },
     "execution_count": 36,
     "metadata": {},
     "output_type": "execute_result"
    }
   ],
   "source": [
    "selector.ranking_"
   ]
  },
  {
   "cell_type": "code",
   "execution_count": 37,
   "metadata": {},
   "outputs": [
    {
     "data": {
      "text/plain": [
       "array([0.01804168, 0.04023799, 0.11332636, 0.01674266, 0.37837452,\n",
       "       0.01021922, 0.01946996, 0.01876591, 0.01940808, 0.02224082,\n",
       "       0.009871  , 0.07845438, 0.0373201 , 0.04641338, 0.02395476,\n",
       "       0.02572067, 0.03711102, 0.05364774, 0.03067974], dtype=float32)"
      ]
     },
     "execution_count": 37,
     "metadata": {},
     "output_type": "execute_result"
    }
   ],
   "source": [
    "selector.estimator_.feature_importances_ "
   ]
  },
  {
   "cell_type": "code",
   "execution_count": 38,
   "metadata": {},
   "outputs": [
    {
     "data": {
      "text/plain": [
       "Index(['No_Rooms', 'Longitude', 'Latitude', 'Furnished', 'Area', 'AC',\n",
       "       'Water_Heater', 'Dining_Set', 'Bed', 'Kitchen', 'Fridge',\n",
       "       'Washing_Machine', 'TV', 'ATM', 'TV_Cable', 'Grocery', 'Internet',\n",
       "       'Swim_Pool', 'Laundry', 'Security', 'Basketball', 'Multipurpose_Room',\n",
       "       'Gym', 'Jogging', 'Tennis', 'Restaurant', 'Playground', 'Jakcheck'],\n",
       "      dtype='object')"
      ]
     },
     "execution_count": 38,
     "metadata": {},
     "output_type": "execute_result"
    }
   ],
   "source": [
    "X.columns"
   ]
  },
  {
   "cell_type": "code",
   "execution_count": 39,
   "metadata": {},
   "outputs": [
    {
     "data": {
      "text/html": [
       "<div>\n",
       "<style scoped>\n",
       "    .dataframe tbody tr th:only-of-type {\n",
       "        vertical-align: middle;\n",
       "    }\n",
       "\n",
       "    .dataframe tbody tr th {\n",
       "        vertical-align: top;\n",
       "    }\n",
       "\n",
       "    .dataframe thead th {\n",
       "        text-align: right;\n",
       "    }\n",
       "</style>\n",
       "<table border=\"1\" class=\"dataframe\">\n",
       "  <thead>\n",
       "    <tr style=\"text-align: right;\">\n",
       "      <th></th>\n",
       "      <th>Features</th>\n",
       "      <th>Selection Status</th>\n",
       "    </tr>\n",
       "  </thead>\n",
       "  <tbody>\n",
       "    <tr>\n",
       "      <th>0</th>\n",
       "      <td>No_Rooms</td>\n",
       "      <td>True</td>\n",
       "    </tr>\n",
       "    <tr>\n",
       "      <th>1</th>\n",
       "      <td>Longitude</td>\n",
       "      <td>True</td>\n",
       "    </tr>\n",
       "    <tr>\n",
       "      <th>2</th>\n",
       "      <td>Latitude</td>\n",
       "      <td>True</td>\n",
       "    </tr>\n",
       "    <tr>\n",
       "      <th>3</th>\n",
       "      <td>Furnished</td>\n",
       "      <td>True</td>\n",
       "    </tr>\n",
       "    <tr>\n",
       "      <th>4</th>\n",
       "      <td>Area</td>\n",
       "      <td>True</td>\n",
       "    </tr>\n",
       "    <tr>\n",
       "      <th>5</th>\n",
       "      <td>AC</td>\n",
       "      <td>True</td>\n",
       "    </tr>\n",
       "    <tr>\n",
       "      <th>6</th>\n",
       "      <td>Water_Heater</td>\n",
       "      <td>True</td>\n",
       "    </tr>\n",
       "    <tr>\n",
       "      <th>7</th>\n",
       "      <td>Dining_Set</td>\n",
       "      <td>False</td>\n",
       "    </tr>\n",
       "    <tr>\n",
       "      <th>8</th>\n",
       "      <td>Bed</td>\n",
       "      <td>False</td>\n",
       "    </tr>\n",
       "    <tr>\n",
       "      <th>9</th>\n",
       "      <td>Kitchen</td>\n",
       "      <td>True</td>\n",
       "    </tr>\n",
       "    <tr>\n",
       "      <th>10</th>\n",
       "      <td>Fridge</td>\n",
       "      <td>True</td>\n",
       "    </tr>\n",
       "    <tr>\n",
       "      <th>11</th>\n",
       "      <td>Washing_Machine</td>\n",
       "      <td>True</td>\n",
       "    </tr>\n",
       "    <tr>\n",
       "      <th>12</th>\n",
       "      <td>TV</td>\n",
       "      <td>False</td>\n",
       "    </tr>\n",
       "    <tr>\n",
       "      <th>13</th>\n",
       "      <td>ATM</td>\n",
       "      <td>False</td>\n",
       "    </tr>\n",
       "    <tr>\n",
       "      <th>14</th>\n",
       "      <td>TV_Cable</td>\n",
       "      <td>False</td>\n",
       "    </tr>\n",
       "    <tr>\n",
       "      <th>15</th>\n",
       "      <td>Grocery</td>\n",
       "      <td>True</td>\n",
       "    </tr>\n",
       "    <tr>\n",
       "      <th>16</th>\n",
       "      <td>Internet</td>\n",
       "      <td>False</td>\n",
       "    </tr>\n",
       "    <tr>\n",
       "      <th>17</th>\n",
       "      <td>Swim_Pool</td>\n",
       "      <td>True</td>\n",
       "    </tr>\n",
       "    <tr>\n",
       "      <th>18</th>\n",
       "      <td>Laundry</td>\n",
       "      <td>False</td>\n",
       "    </tr>\n",
       "    <tr>\n",
       "      <th>19</th>\n",
       "      <td>Security</td>\n",
       "      <td>False</td>\n",
       "    </tr>\n",
       "    <tr>\n",
       "      <th>20</th>\n",
       "      <td>Basketball</td>\n",
       "      <td>True</td>\n",
       "    </tr>\n",
       "    <tr>\n",
       "      <th>21</th>\n",
       "      <td>Multipurpose_Room</td>\n",
       "      <td>True</td>\n",
       "    </tr>\n",
       "    <tr>\n",
       "      <th>22</th>\n",
       "      <td>Gym</td>\n",
       "      <td>False</td>\n",
       "    </tr>\n",
       "    <tr>\n",
       "      <th>23</th>\n",
       "      <td>Jogging</td>\n",
       "      <td>True</td>\n",
       "    </tr>\n",
       "    <tr>\n",
       "      <th>24</th>\n",
       "      <td>Tennis</td>\n",
       "      <td>True</td>\n",
       "    </tr>\n",
       "    <tr>\n",
       "      <th>25</th>\n",
       "      <td>Restaurant</td>\n",
       "      <td>True</td>\n",
       "    </tr>\n",
       "    <tr>\n",
       "      <th>26</th>\n",
       "      <td>Playground</td>\n",
       "      <td>True</td>\n",
       "    </tr>\n",
       "    <tr>\n",
       "      <th>27</th>\n",
       "      <td>Jakcheck</td>\n",
       "      <td>True</td>\n",
       "    </tr>\n",
       "  </tbody>\n",
       "</table>\n",
       "</div>"
      ],
      "text/plain": [
       "             Features  Selection Status\n",
       "0            No_Rooms              True\n",
       "1           Longitude              True\n",
       "2            Latitude              True\n",
       "3           Furnished              True\n",
       "4                Area              True\n",
       "5                  AC              True\n",
       "6        Water_Heater              True\n",
       "7          Dining_Set             False\n",
       "8                 Bed             False\n",
       "9             Kitchen              True\n",
       "10             Fridge              True\n",
       "11    Washing_Machine              True\n",
       "12                 TV             False\n",
       "13                ATM             False\n",
       "14           TV_Cable             False\n",
       "15            Grocery              True\n",
       "16           Internet             False\n",
       "17          Swim_Pool              True\n",
       "18            Laundry             False\n",
       "19           Security             False\n",
       "20         Basketball              True\n",
       "21  Multipurpose_Room              True\n",
       "22                Gym             False\n",
       "23            Jogging              True\n",
       "24             Tennis              True\n",
       "25         Restaurant              True\n",
       "26         Playground              True\n",
       "27           Jakcheck              True"
      ]
     },
     "execution_count": 39,
     "metadata": {},
     "output_type": "execute_result"
    }
   ],
   "source": [
    "fs = {'Features': X.columns,\n",
    "        'Selection Status': selector.support_\n",
    "        }\n",
    "\n",
    "feature_selection_all = pd.DataFrame(fs, columns = ['Features', 'Selection Status'])\n",
    "feature_selection_all"
   ]
  },
  {
   "cell_type": "code",
   "execution_count": 40,
   "metadata": {},
   "outputs": [],
   "source": [
    "selected_features = feature_selection_all[feature_selection_all['Selection Status'] == True]"
   ]
  },
  {
   "cell_type": "code",
   "execution_count": 41,
   "metadata": {},
   "outputs": [
    {
     "name": "stderr",
     "output_type": "stream",
     "text": [
      "<ipython-input-41-f64bec585cc7>:1: SettingWithCopyWarning: \n",
      "A value is trying to be set on a copy of a slice from a DataFrame.\n",
      "Try using .loc[row_indexer,col_indexer] = value instead\n",
      "\n",
      "See the caveats in the documentation: https://pandas.pydata.org/pandas-docs/stable/user_guide/indexing.html#returning-a-view-versus-a-copy\n",
      "  selected_features['Importance'] = selector.estimator_.feature_importances_\n"
     ]
    }
   ],
   "source": [
    "selected_features['Importance'] = selector.estimator_.feature_importances_ "
   ]
  },
  {
   "cell_type": "code",
   "execution_count": 42,
   "metadata": {},
   "outputs": [],
   "source": [
    "selected_features = selected_features.sort_values(by=['Importance'], ascending=False)"
   ]
  },
  {
   "cell_type": "code",
   "execution_count": 43,
   "metadata": {},
   "outputs": [
    {
     "data": {
      "text/html": [
       "<div>\n",
       "<style scoped>\n",
       "    .dataframe tbody tr th:only-of-type {\n",
       "        vertical-align: middle;\n",
       "    }\n",
       "\n",
       "    .dataframe tbody tr th {\n",
       "        vertical-align: top;\n",
       "    }\n",
       "\n",
       "    .dataframe thead th {\n",
       "        text-align: right;\n",
       "    }\n",
       "</style>\n",
       "<table border=\"1\" class=\"dataframe\">\n",
       "  <thead>\n",
       "    <tr style=\"text-align: right;\">\n",
       "      <th></th>\n",
       "      <th>Features</th>\n",
       "      <th>Selection Status</th>\n",
       "      <th>Importance</th>\n",
       "    </tr>\n",
       "  </thead>\n",
       "  <tbody>\n",
       "    <tr>\n",
       "      <th>4</th>\n",
       "      <td>Area</td>\n",
       "      <td>True</td>\n",
       "      <td>0.378375</td>\n",
       "    </tr>\n",
       "    <tr>\n",
       "      <th>2</th>\n",
       "      <td>Latitude</td>\n",
       "      <td>True</td>\n",
       "      <td>0.113326</td>\n",
       "    </tr>\n",
       "    <tr>\n",
       "      <th>17</th>\n",
       "      <td>Swim_Pool</td>\n",
       "      <td>True</td>\n",
       "      <td>0.078454</td>\n",
       "    </tr>\n",
       "    <tr>\n",
       "      <th>26</th>\n",
       "      <td>Playground</td>\n",
       "      <td>True</td>\n",
       "      <td>0.053648</td>\n",
       "    </tr>\n",
       "    <tr>\n",
       "      <th>21</th>\n",
       "      <td>Multipurpose_Room</td>\n",
       "      <td>True</td>\n",
       "      <td>0.046413</td>\n",
       "    </tr>\n",
       "    <tr>\n",
       "      <th>1</th>\n",
       "      <td>Longitude</td>\n",
       "      <td>True</td>\n",
       "      <td>0.040238</td>\n",
       "    </tr>\n",
       "    <tr>\n",
       "      <th>20</th>\n",
       "      <td>Basketball</td>\n",
       "      <td>True</td>\n",
       "      <td>0.037320</td>\n",
       "    </tr>\n",
       "    <tr>\n",
       "      <th>25</th>\n",
       "      <td>Restaurant</td>\n",
       "      <td>True</td>\n",
       "      <td>0.037111</td>\n",
       "    </tr>\n",
       "    <tr>\n",
       "      <th>27</th>\n",
       "      <td>Jakcheck</td>\n",
       "      <td>True</td>\n",
       "      <td>0.030680</td>\n",
       "    </tr>\n",
       "    <tr>\n",
       "      <th>24</th>\n",
       "      <td>Tennis</td>\n",
       "      <td>True</td>\n",
       "      <td>0.025721</td>\n",
       "    </tr>\n",
       "    <tr>\n",
       "      <th>23</th>\n",
       "      <td>Jogging</td>\n",
       "      <td>True</td>\n",
       "      <td>0.023955</td>\n",
       "    </tr>\n",
       "    <tr>\n",
       "      <th>11</th>\n",
       "      <td>Washing_Machine</td>\n",
       "      <td>True</td>\n",
       "      <td>0.022241</td>\n",
       "    </tr>\n",
       "    <tr>\n",
       "      <th>6</th>\n",
       "      <td>Water_Heater</td>\n",
       "      <td>True</td>\n",
       "      <td>0.019470</td>\n",
       "    </tr>\n",
       "    <tr>\n",
       "      <th>10</th>\n",
       "      <td>Fridge</td>\n",
       "      <td>True</td>\n",
       "      <td>0.019408</td>\n",
       "    </tr>\n",
       "    <tr>\n",
       "      <th>9</th>\n",
       "      <td>Kitchen</td>\n",
       "      <td>True</td>\n",
       "      <td>0.018766</td>\n",
       "    </tr>\n",
       "    <tr>\n",
       "      <th>0</th>\n",
       "      <td>No_Rooms</td>\n",
       "      <td>True</td>\n",
       "      <td>0.018042</td>\n",
       "    </tr>\n",
       "    <tr>\n",
       "      <th>3</th>\n",
       "      <td>Furnished</td>\n",
       "      <td>True</td>\n",
       "      <td>0.016743</td>\n",
       "    </tr>\n",
       "    <tr>\n",
       "      <th>5</th>\n",
       "      <td>AC</td>\n",
       "      <td>True</td>\n",
       "      <td>0.010219</td>\n",
       "    </tr>\n",
       "    <tr>\n",
       "      <th>15</th>\n",
       "      <td>Grocery</td>\n",
       "      <td>True</td>\n",
       "      <td>0.009871</td>\n",
       "    </tr>\n",
       "  </tbody>\n",
       "</table>\n",
       "</div>"
      ],
      "text/plain": [
       "             Features  Selection Status  Importance\n",
       "4                Area              True    0.378375\n",
       "2            Latitude              True    0.113326\n",
       "17          Swim_Pool              True    0.078454\n",
       "26         Playground              True    0.053648\n",
       "21  Multipurpose_Room              True    0.046413\n",
       "1           Longitude              True    0.040238\n",
       "20         Basketball              True    0.037320\n",
       "25         Restaurant              True    0.037111\n",
       "27           Jakcheck              True    0.030680\n",
       "24             Tennis              True    0.025721\n",
       "23            Jogging              True    0.023955\n",
       "11    Washing_Machine              True    0.022241\n",
       "6        Water_Heater              True    0.019470\n",
       "10             Fridge              True    0.019408\n",
       "9             Kitchen              True    0.018766\n",
       "0            No_Rooms              True    0.018042\n",
       "3           Furnished              True    0.016743\n",
       "5                  AC              True    0.010219\n",
       "15            Grocery              True    0.009871"
      ]
     },
     "execution_count": 43,
     "metadata": {},
     "output_type": "execute_result"
    }
   ],
   "source": [
    "selected_features"
   ]
  },
  {
   "cell_type": "code",
   "execution_count": 44,
   "metadata": {},
   "outputs": [
    {
     "data": {
      "text/plain": [
       "19"
      ]
     },
     "execution_count": 44,
     "metadata": {},
     "output_type": "execute_result"
    }
   ],
   "source": [
    "len(selected_features.Features)"
   ]
  },
  {
   "cell_type": "markdown",
   "metadata": {},
   "source": [
    "After performing feature selection, we see that we end up with 19 selected features. However, upon seeing the selected features and its importance, I think it's a good idea to remove 'AC' and 'Grocery' as it is the bottom two features. Most apartments have AC units and some kind of grocery shops (Indomaret / Alfamart) near its vicinity anyway. Furthermore, it's better to try building a model with less number of features as it could be a good tactic to avoid overfitting. \n",
    "\n",
    "From the table above, we get the following takeaways:\n",
    "- Area of apartment unit is the most important feature. This makes sense as it's a rule of thumb in most property cases: the more area it covers, the more expensive the property is.\n",
    "- Location also plays important role in determining its price. It seems that Latitude plays a bigger role than Longitude, however both are within the top 10 of the ranked list. Also, our added feature to check whether the unit is in Jakarta or in its satelite regions seem to be pretty useful too.\n",
    "- The facilities that affects the annual price the most are the 'luxurious' facilities, such as multipurpose room, swimming pool, and tennis field. These facilities are almost always not present in lower-priced apartments, so they can be a good predictor towards the annual rent price target variable. "
   ]
  },
  {
   "cell_type": "code",
   "execution_count": 45,
   "metadata": {},
   "outputs": [],
   "source": [
    "selected_features = selected_features[selected_features[\"Features\"]!=\"AC\"]\n",
    "selected_features = selected_features[selected_features[\"Features\"]!=\"Grocery\"]\n",
    "selected_features = selected_features.drop(['Selection Status'], axis = 'columns')\n",
    "selected_features.to_csv('selected features.csv')"
   ]
  },
  {
   "cell_type": "code",
   "execution_count": 46,
   "metadata": {},
   "outputs": [
    {
     "data": {
      "text/html": [
       "<div>\n",
       "<style scoped>\n",
       "    .dataframe tbody tr th:only-of-type {\n",
       "        vertical-align: middle;\n",
       "    }\n",
       "\n",
       "    .dataframe tbody tr th {\n",
       "        vertical-align: top;\n",
       "    }\n",
       "\n",
       "    .dataframe thead th {\n",
       "        text-align: right;\n",
       "    }\n",
       "</style>\n",
       "<table border=\"1\" class=\"dataframe\">\n",
       "  <thead>\n",
       "    <tr style=\"text-align: right;\">\n",
       "      <th></th>\n",
       "      <th>Features</th>\n",
       "      <th>Importance</th>\n",
       "    </tr>\n",
       "  </thead>\n",
       "  <tbody>\n",
       "    <tr>\n",
       "      <th>4</th>\n",
       "      <td>Area</td>\n",
       "      <td>0.378375</td>\n",
       "    </tr>\n",
       "    <tr>\n",
       "      <th>2</th>\n",
       "      <td>Latitude</td>\n",
       "      <td>0.113326</td>\n",
       "    </tr>\n",
       "    <tr>\n",
       "      <th>17</th>\n",
       "      <td>Swim_Pool</td>\n",
       "      <td>0.078454</td>\n",
       "    </tr>\n",
       "    <tr>\n",
       "      <th>26</th>\n",
       "      <td>Playground</td>\n",
       "      <td>0.053648</td>\n",
       "    </tr>\n",
       "    <tr>\n",
       "      <th>21</th>\n",
       "      <td>Multipurpose_Room</td>\n",
       "      <td>0.046413</td>\n",
       "    </tr>\n",
       "    <tr>\n",
       "      <th>1</th>\n",
       "      <td>Longitude</td>\n",
       "      <td>0.040238</td>\n",
       "    </tr>\n",
       "    <tr>\n",
       "      <th>20</th>\n",
       "      <td>Basketball</td>\n",
       "      <td>0.037320</td>\n",
       "    </tr>\n",
       "    <tr>\n",
       "      <th>25</th>\n",
       "      <td>Restaurant</td>\n",
       "      <td>0.037111</td>\n",
       "    </tr>\n",
       "    <tr>\n",
       "      <th>27</th>\n",
       "      <td>Jakcheck</td>\n",
       "      <td>0.030680</td>\n",
       "    </tr>\n",
       "    <tr>\n",
       "      <th>24</th>\n",
       "      <td>Tennis</td>\n",
       "      <td>0.025721</td>\n",
       "    </tr>\n",
       "    <tr>\n",
       "      <th>23</th>\n",
       "      <td>Jogging</td>\n",
       "      <td>0.023955</td>\n",
       "    </tr>\n",
       "    <tr>\n",
       "      <th>11</th>\n",
       "      <td>Washing_Machine</td>\n",
       "      <td>0.022241</td>\n",
       "    </tr>\n",
       "    <tr>\n",
       "      <th>6</th>\n",
       "      <td>Water_Heater</td>\n",
       "      <td>0.019470</td>\n",
       "    </tr>\n",
       "    <tr>\n",
       "      <th>10</th>\n",
       "      <td>Fridge</td>\n",
       "      <td>0.019408</td>\n",
       "    </tr>\n",
       "    <tr>\n",
       "      <th>9</th>\n",
       "      <td>Kitchen</td>\n",
       "      <td>0.018766</td>\n",
       "    </tr>\n",
       "    <tr>\n",
       "      <th>0</th>\n",
       "      <td>No_Rooms</td>\n",
       "      <td>0.018042</td>\n",
       "    </tr>\n",
       "    <tr>\n",
       "      <th>3</th>\n",
       "      <td>Furnished</td>\n",
       "      <td>0.016743</td>\n",
       "    </tr>\n",
       "  </tbody>\n",
       "</table>\n",
       "</div>"
      ],
      "text/plain": [
       "             Features  Importance\n",
       "4                Area    0.378375\n",
       "2            Latitude    0.113326\n",
       "17          Swim_Pool    0.078454\n",
       "26         Playground    0.053648\n",
       "21  Multipurpose_Room    0.046413\n",
       "1           Longitude    0.040238\n",
       "20         Basketball    0.037320\n",
       "25         Restaurant    0.037111\n",
       "27           Jakcheck    0.030680\n",
       "24             Tennis    0.025721\n",
       "23            Jogging    0.023955\n",
       "11    Washing_Machine    0.022241\n",
       "6        Water_Heater    0.019470\n",
       "10             Fridge    0.019408\n",
       "9             Kitchen    0.018766\n",
       "0            No_Rooms    0.018042\n",
       "3           Furnished    0.016743"
      ]
     },
     "execution_count": 46,
     "metadata": {},
     "output_type": "execute_result"
    }
   ],
   "source": [
    "selected_features"
   ]
  },
  {
   "cell_type": "code",
   "execution_count": 47,
   "metadata": {},
   "outputs": [],
   "source": [
    "X_s = X[['Area', 'Latitude', 'Longitude', 'Jakcheck', 'Multipurpose_Room', 'Playground', 'Basketball', 'Swim_Pool', 'Jogging',\n",
    "        'Restaurant', 'Tennis', 'Washing_Machine', 'Fridge', 'Furnished', 'Water_Heater', 'Kitchen', 'No_Rooms']]\n",
    "y = y"
   ]
  },
  {
   "cell_type": "markdown",
   "metadata": {},
   "source": [
    "We'll only use these feature columns moving forward."
   ]
  },
  {
   "cell_type": "code",
   "execution_count": 48,
   "metadata": {},
   "outputs": [
    {
     "name": "stdout",
     "output_type": "stream",
     "text": [
      "xgboost: 0.8959 (0.0226)\n"
     ]
    }
   ],
   "source": [
    "score = cv_r2(xgboost, X=X_s, y = y.AnnualPrice)\n",
    "print(\"xgboost: {:.4f} ({:.4f})\".format(score.mean(), score.std()))"
   ]
  },
  {
   "cell_type": "markdown",
   "metadata": {},
   "source": [
    "## Hyperparameter Tuning for XGBoost\n",
    "\n",
    "Next, we're going to tune the parameters for XGBoost to see if we can still further improve our model. We can also do a log-transformation on the AnnualPrice during training before transforming it back to its original scale. We'll see if this technique makes the model perform better (as our previous predictions suffer a bit of a heteroscedasticity at the larger values). Thus, there are 4 models to be compared:\n",
    "\n",
    "1. A baseline XGBoost model\n",
    "2. A baseline XGBoost model with log-transformation\n",
    "3. A tuned XGBoost model\n",
    "4. A tuned XGBoost model with log-transformation.\n",
    "\n",
    "However, there's a twist - we're not exactly looking at how good a model's prediction is solely. We want a model that does not suffer from overfitting. To assure that, our model will predict both the train and test set. We'll evaluate both predictions and evaluate how different are the metrics that we get from training set's predictions and test set's predictions.\n",
    "\n",
    "If there is a huge discrepancy between training prediction metrics and testing prediction metrics, that model is most likely overfitting. The metrics that we use for this evaluation will be RMSE and R squared."
   ]
  },
  {
   "cell_type": "markdown",
   "metadata": {},
   "source": [
    "Base XGBoost Model:"
   ]
  },
  {
   "cell_type": "code",
   "execution_count": null,
   "metadata": {},
   "outputs": [],
   "source": []
  },
  {
   "cell_type": "code",
   "execution_count": 97,
   "metadata": {},
   "outputs": [
    {
     "data": {
      "text/plain": [
       "Text(0, 0.5, 'predicted value')"
      ]
     },
     "execution_count": 97,
     "metadata": {},
     "output_type": "execute_result"
    },
    {
     "data": {
      "image/png": "[encoded data removed]",
      "text/plain": [
       "<Figure size 432x288 with 1 Axes>"
      ]
     },
     "metadata": {},
     "output_type": "display_data"
    }
   ],
   "source": [
    "##Tran Test Split\n",
    "from sklearn.model_selection import train_test_split\n",
    "X_train, X_test, y_train, y_test = train_test_split(X_s, y, test_size = 0.2, random_state = 123)\n",
    "\n",
    "train_labels = list()\n",
    "for _ in y_train.AnnualPrice:\n",
    "    train_labels.append(_)\n",
    "    \n",
    "test_labels = list()\n",
    "for _ in y_test.AnnualPrice:\n",
    "    test_labels.append(_)\n",
    "\n",
    "XGBoost_Base = XGBRegressor()\n",
    "XGBoost_Base.fit(X_train, y_train)\n",
    "\n",
    "predict_base = XGBoost_Base.predict(X_test)\n",
    "test_val = y_test.to_numpy()\n",
    "plt.scatter(test_val, predict_base)\n",
    "plt.xlabel('y_test')\n",
    "plt.ylabel('predicted value')\n",
    "\n",
    "train_base = XGBoost_Base.predict(X_train)\n",
    "train_val = y_train.to_numpy()\n",
    "plt.scatter(train_val, train_base)\n",
    "plt.xlabel('y_train')\n",
    "plt.ylabel('predicted value')"
   ]
  },
  {
   "cell_type": "code",
   "execution_count": 98,
   "metadata": {},
   "outputs": [
    {
     "name": "stdout",
     "output_type": "stream",
     "text": [
      "RMSE (Test): 29543181.676278032\n",
      "R2 Score (Test): 0.9062649666110133\n",
      "RMSE (Train): 13943312.990665685\n",
      "R2 Score (Train): 0.979983569365708\n"
     ]
    }
   ],
   "source": [
    "from sklearn import metrics\n",
    "print('RMSE (Test):', np.sqrt(metrics.mean_squared_error(test_val, predict_base)))\n",
    "print('R2 Score (Test):', metrics.r2_score(test_val, predict_base))\n",
    "\n",
    "print('RMSE (Train):', np.sqrt(metrics.mean_squared_error(train_val, train_base)))\n",
    "print('R2 Score (Train):', metrics.r2_score(train_val, train_base))"
   ]
  },
  {
   "cell_type": "markdown",
   "metadata": {},
   "source": [
    "As we can see, the test RMSE is more than double the train RMSE. The R-squared of the training set is subjectively much higher than the R-squared of the test set, which implies overfitting."
   ]
  },
  {
   "cell_type": "markdown",
   "metadata": {},
   "source": [
    "Log Transform the Target Variable"
   ]
  },
  {
   "cell_type": "code",
   "execution_count": 99,
   "metadata": {},
   "outputs": [
    {
     "data": {
      "text/plain": [
       "Text(0, 0.5, 'predicted value')"
      ]
     },
     "execution_count": 99,
     "metadata": {},
     "output_type": "execute_result"
    },
    {
     "data": {
      "image/png": "[encoded data removed]",
      "text/plain": [
       "<Figure size 432x288 with 1 Axes>"
      ]
     },
     "metadata": {},
     "output_type": "display_data"
    }
   ],
   "source": [
    "##Tran Test Split\n",
    "from sklearn.model_selection import train_test_split\n",
    "X_train, X_test, y_train, y_test = train_test_split(X_s, y, test_size = 0.2, random_state = 123)\n",
    "\n",
    "train_labels = list()\n",
    "for _ in y_train.AnnualPrice:\n",
    "    train_labels.append(_)\n",
    "    \n",
    "test_labels = list()\n",
    "for _ in y_test.AnnualPrice:\n",
    "    test_labels.append(_)\n",
    "\n",
    "XGBoost_Base = XGBRegressor()\n",
    "XGBoost_Base.fit(X_train, np.log1p(y_train))\n",
    "\n",
    "predict_base_log = np.expm1(XGBoost_Base.predict(X_test))\n",
    "test_val = y_test.to_numpy()\n",
    "plt.scatter(test_val, true_pred)\n",
    "plt.xlabel('y_test')\n",
    "plt.ylabel('predicted value')\n",
    "\n",
    "train_base_log = np.expm1(XGBoost_Base.predict(X_train))\n",
    "train_val = y_train.to_numpy()\n",
    "plt.scatter(train_val, train_base)\n",
    "plt.xlabel('y_train')\n",
    "plt.ylabel('predicted value')"
   ]
  },
  {
   "cell_type": "code",
   "execution_count": 100,
   "metadata": {},
   "outputs": [
    {
     "name": "stdout",
     "output_type": "stream",
     "text": [
      "RMSE (Test): 29414065.11064599\n",
      "R2 Score (Test): 0.9062649666110133\n",
      "RMSE (Train): 16642825.566310175\n",
      "R2 Score (Train): 0.979983569365708\n"
     ]
    }
   ],
   "source": [
    "from sklearn import metrics\n",
    "print('RMSE (Test):', np.sqrt(metrics.mean_squared_error(test_val, predict_base_log)))\n",
    "print('R2 Score (Test):', metrics.r2_score(test_val, predict_base))\n",
    "\n",
    "print('RMSE (Train):', np.sqrt(metrics.mean_squared_error(train_val, train_base_log)))\n",
    "print('R2 Score (Train):', metrics.r2_score(train_val, train_base))"
   ]
  },
  {
   "cell_type": "markdown",
   "metadata": {},
   "source": [
    "This seems to be the case as well for the base model with log transformation. It seems that performing log transformation does not help our model a lot - in terms of increasing accuracy and reducing overfitting."
   ]
  },
  {
   "cell_type": "markdown",
   "metadata": {},
   "source": [
    "Now, let's try to do some hyperparameter tuning with our XGBoost Regressor."
   ]
  },
  {
   "cell_type": "code",
   "execution_count": 173,
   "metadata": {
    "scrolled": false
   },
   "outputs": [
    {
     "name": "stderr",
     "output_type": "stream",
     "text": [
      "c:\\users\\grady\\appdata\\local\\programs\\python\\python38\\lib\\site-packages\\sklearn\\model_selection\\_split.py:670: UserWarning: The least populated class in y has only 1 members, which is less than n_splits=10.\n",
      "  warnings.warn((\"The least populated class in y has only %d\"\n",
      "[Parallel(n_jobs=-1)]: Using backend LokyBackend with 8 concurrent workers.\n"
     ]
    },
    {
     "name": "stdout",
     "output_type": "stream",
     "text": [
      "Fitting 10 folds for each of 150 candidates, totalling 1500 fits\n"
     ]
    },
    {
     "name": "stderr",
     "output_type": "stream",
     "text": [
      "[Parallel(n_jobs=-1)]: Done  25 tasks      | elapsed:    3.1s\n",
      "[Parallel(n_jobs=-1)]: Done 146 tasks      | elapsed:    8.0s\n",
      "[Parallel(n_jobs=-1)]: Done 349 tasks      | elapsed:   19.5s\n",
      "[Parallel(n_jobs=-1)]: Done 632 tasks      | elapsed:   37.0s\n",
      "[Parallel(n_jobs=-1)]: Done 997 tasks      | elapsed:   54.9s\n",
      "[Parallel(n_jobs=-1)]: Done 1442 tasks      | elapsed:  1.3min\n",
      "[Parallel(n_jobs=-1)]: Done 1500 out of 1500 | elapsed:  1.3min finished\n"
     ]
    },
    {
     "name": "stdout",
     "output_type": "stream",
     "text": [
      "-29910279.177531254\n",
      "{'subsample': 0.6, 'n_estimators': 125, 'min_child_weight': 5, 'max_depth': 15, 'learning_rate': 0.05, 'gamma': 3, 'eta': 0.1, 'colsample_bytree': 0.6}\n"
     ]
    }
   ],
   "source": [
    "from sklearn.model_selection import StratifiedKFold\n",
    "from sklearn.model_selection import RandomizedSearchCV, GridSearchCV\n",
    "\n",
    "\n",
    "xgb = XGBRegressor()\n",
    "params = {\n",
    "        'min_child_weight': [5, 6, 8, 10],\n",
    "        'gamma': [3, 5, 7],\n",
    "        'subsample': [0.1, 0.4, 0.6],\n",
    "        'colsample_bytree': [0.1, 0.4, 0.6],\n",
    "        'max_depth': [7, 9, 10, 12, 15],\n",
    "        'eta' : [0.1],\n",
    "        'learning_rate' : [0.04, 0.05, 0.06, 0.075],\n",
    "        'n_estimators' : [100, 125]\n",
    "        }\n",
    "\n",
    "skf = StratifiedKFold(n_splits=10, shuffle = True, random_state = 100)\n",
    "random_search = RandomizedSearchCV(xgb, param_distributions=params, n_iter=150, \n",
    "                                   scoring='neg_root_mean_squared_error', n_jobs=-1, cv=skf.split(X_s,y.AnnualPrice), verbose=2, random_state=1001 )\n",
    "random_search.fit(X_s, y.AnnualPrice)\n",
    "\n",
    "print(random_search.best_score_)\n",
    "print(random_search.best_params_)"
   ]
  },
  {
   "cell_type": "markdown",
   "metadata": {},
   "source": [
    "From a glance, our RMSE on testing set isn't that different from the RMSE of previous models. However, let's see if this model also suffers from overfitting."
   ]
  },
  {
   "cell_type": "code",
   "execution_count": 246,
   "metadata": {
    "scrolled": true
   },
   "outputs": [
    {
     "name": "stdout",
     "output_type": "stream",
     "text": [
      "RMSE (Test): 29377053.629938092\n",
      "R2 Score (Test): 0.9073161895725046\n",
      "RMSE (Train): 22395350.969635192\n",
      "R2 Score (Train): 0.9483618791971712\n"
     ]
    },
    {
     "data": {
      "image/png": "[encoded data removed]",
      "text/plain": [
       "<Figure size 432x288 with 1 Axes>"
      ]
     },
     "metadata": {},
     "output_type": "display_data"
    }
   ],
   "source": [
    "##Tran Test Split\n",
    "from sklearn.model_selection import train_test_split\n",
    "X_train, X_test, y_train, y_test = train_test_split(X_s, y, test_size = 0.2, random_state = 123)\n",
    "\n",
    "train_labels = list()\n",
    "for _ in y_train.AnnualPrice:\n",
    "    train_labels.append(_)\n",
    "    \n",
    "test_labels = list()\n",
    "for _ in y_test.AnnualPrice:\n",
    "    test_labels.append(_)\n",
    "\n",
    "tuned_xgb = XGBRegressor(subsample=0.5, n_estimators = 120, min_child_weight = 7, max_depth = 12,\n",
    "                         learning_rate = 0.05, gamma = 3, eta = 0.1, colsample_bytree = 0.6)\n",
    "tuned_xgb.fit(X_train, y_train)\n",
    "\n",
    "prediction = tuned_xgb.predict(X_test)\n",
    "test_val = y_test.to_numpy()\n",
    "plt.scatter(test_val, prediction)\n",
    "plt.xlabel('y_test')\n",
    "plt.ylabel('predicted value')\n",
    "\n",
    "train_base = tuned_xgb.predict(X_train)\n",
    "train_val = y_train.to_numpy()\n",
    "plt.scatter(train_val, train_base)\n",
    "plt.xlabel('y_train')\n",
    "plt.ylabel('predicted value')\n",
    "\n",
    "from sklearn import metrics\n",
    "print('RMSE (Test):', np.sqrt(metrics.mean_squared_error(test_val, prediction)))\n",
    "print('R2 Score (Test):', metrics.r2_score(test_val, prediction))\n",
    "\n",
    "print('RMSE (Train):', np.sqrt(metrics.mean_squared_error(train_val, train_base)))\n",
    "print('R2 Score (Train):', metrics.r2_score(train_val, train_base))"
   ]
  },
  {
   "cell_type": "markdown",
   "metadata": {},
   "source": [
    "Although our accuracy on the test set does not improve that much, the discrepancy between test and training set lowers. Let's settle on this model and check for other random states."
   ]
  },
  {
   "cell_type": "code",
   "execution_count": 255,
   "metadata": {},
   "outputs": [
    {
     "name": "stdout",
     "output_type": "stream",
     "text": [
      "RMSE (Test): 29215004.78179571\n",
      "R2 Score (Test): 0.9079581496960986\n",
      "RMSE (Train): 22523739.020251747\n",
      "R2 Score (Train): 0.9478219497897742\n"
     ]
    },
    {
     "data": {
      "image/png": "[encoded data removed]",
      "text/plain": [
       "<Figure size 432x288 with 1 Axes>"
      ]
     },
     "metadata": {},
     "output_type": "display_data"
    }
   ],
   "source": [
    "##Tran Test Split\n",
    "import random\n",
    "from random import randint\n",
    "from sklearn.model_selection import train_test_split\n",
    "X_train, X_test, y_train, y_test = train_test_split(X_s, y, test_size = 0.2, random_state = randint(0,1000))\n",
    "\n",
    "train_labels = list()\n",
    "for _ in y_train.AnnualPrice:\n",
    "    train_labels.append(_)\n",
    "    \n",
    "test_labels = list()\n",
    "for _ in y_test.AnnualPrice:\n",
    "    test_labels.append(_)\n",
    "\n",
    "tuned_xgb = XGBRegressor(subsample=0.5, n_estimators = 120, min_child_weight = 7, max_depth = 12,\n",
    "                         learning_rate = 0.05, gamma = 3, eta = 0.1, colsample_bytree = 0.6)\n",
    "tuned_xgb.fit(X_train, y_train)\n",
    "\n",
    "prediction = tuned_xgb.predict(X_test)\n",
    "test_val = y_test.to_numpy()\n",
    "plt.scatter(test_val, prediction)\n",
    "plt.xlabel('y_test')\n",
    "plt.ylabel('predicted value')\n",
    "\n",
    "train_base = tuned_xgb.predict(X_train)\n",
    "train_val = y_train.to_numpy()\n",
    "plt.scatter(train_val, train_base)\n",
    "plt.xlabel('y_train')\n",
    "plt.ylabel('predicted value')\n",
    "\n",
    "from sklearn import metrics\n",
    "print('RMSE (Test):', np.sqrt(metrics.mean_squared_error(test_val, prediction)))\n",
    "print('R2 Score (Test):', metrics.r2_score(test_val, prediction))\n",
    "\n",
    "print('RMSE (Train):', np.sqrt(metrics.mean_squared_error(train_val, train_base)))\n",
    "print('R2 Score (Train):', metrics.r2_score(train_val, train_base))"
   ]
  },
  {
   "cell_type": "code",
   "execution_count": 257,
   "metadata": {},
   "outputs": [
    {
     "data": {
      "text/plain": [
       "XGBRegressor(base_score=0.5, booster='gbtree', colsample_bylevel=1,\n",
       "             colsample_bynode=1, colsample_bytree=0.6, eta=0.1, gamma=3,\n",
       "             gpu_id=-1, importance_type='gain', interaction_constraints='',\n",
       "             learning_rate=0.05, max_delta_step=0, max_depth=12,\n",
       "             min_child_weight=7, missing=nan, monotone_constraints='()',\n",
       "             n_estimators=120, n_jobs=0, num_parallel_tree=1, random_state=0,\n",
       "             reg_alpha=0, reg_lambda=1, scale_pos_weight=1, subsample=0.5,\n",
       "             tree_method='exact', validate_parameters=1, verbosity=None)"
      ]
     },
     "execution_count": 257,
     "metadata": {},
     "output_type": "execute_result"
    }
   ],
   "source": [
    "final_model = XGBRegressor(subsample=0.5, n_estimators = 120, min_child_weight = 7, max_depth = 12,\n",
    "                         learning_rate = 0.05, gamma = 3, eta = 0.1, colsample_bytree = 0.6)\n",
    "final_model.fit(X_s, y.AnnualPrice)"
   ]
  },
  {
   "cell_type": "code",
   "execution_count": 258,
   "metadata": {},
   "outputs": [],
   "source": [
    "import pickle\n",
    "\n",
    "xgboost_tuned = pickle.dump(final_model, open('xgboost_tuned.pickle.dat', 'wb'))\n",
    "\n",
    "import joblib\n",
    "\n",
    "xgboost_tuned = joblib.dump(final_model, \"xgboost_tuned.joblib.dat\")\n"
   ]
  },
  {
   "cell_type": "code",
   "execution_count": 259,
   "metadata": {},
   "outputs": [
    {
     "data": {
      "text/plain": [
       "Index(['Area', 'Latitude', 'Longitude', 'Jakcheck', 'Multipurpose_Room',\n",
       "       'Playground', 'Basketball', 'Swim_Pool', 'Jogging', 'Restaurant',\n",
       "       'Tennis', 'Washing_Machine', 'Fridge', 'Furnished', 'Water_Heater',\n",
       "       'Kitchen', 'No_Rooms'],\n",
       "      dtype='object')"
      ]
     },
     "execution_count": 259,
     "metadata": {},
     "output_type": "execute_result"
    }
   ],
   "source": [
    "X_s.columns"
   ]
  },
  {
   "cell_type": "code",
   "execution_count": 260,
   "metadata": {},
   "outputs": [
    {
     "name": "stderr",
     "output_type": "stream",
     "text": [
      "<ipython-input-260-378486d70d23>:2: SettingWithCopyWarning: \n",
      "A value is trying to be set on a copy of a slice from a DataFrame.\n",
      "Try using .loc[row_indexer,col_indexer] = value instead\n",
      "\n",
      "See the caveats in the documentation: https://pandas.pydata.org/pandas-docs/stable/user_guide/indexing.html#returning-a-view-versus-a-copy\n",
      "  final_dataset['AnnualPrice'] = y.AnnualPrice\n"
     ]
    }
   ],
   "source": [
    "final_dataset = X_s\n",
    "final_dataset['AnnualPrice'] = y.AnnualPrice\n",
    "final_dataset = final_dataset.reset_index(drop = True)\n",
    "final_dataset.to_csv('Final Dataset.csv')"
   ]
  },
  {
   "cell_type": "code",
   "execution_count": 268,
   "metadata": {},
   "outputs": [
    {
     "name": "stdout",
     "output_type": "stream",
     "text": [
      "29215004.78179571\n",
      "0.9079581496960986\n",
      "22523739.020251747\n",
      "0.9478219497897742\n"
     ]
    }
   ],
   "source": [
    "# tuned_xgb = XGBRegressor(subsample=0.4, n_estimators=200, min_child_weight=11, max_depth=12, learning_rate=0.05, gamma=3, eta=0.05,\n",
    "#                         colsample_bytree=0.4)\n",
    "tuned_xgb.fit(X_train, y_train)\n",
    "tuned_pred = tuned_xgb.predict(X_test)\n",
    "train_pred = tuned_xgb.predict(X_train)\n",
    "print(np.sqrt(metrics.mean_squared_error(test_val, tuned_pred)))\n",
    "print(metrics.r2_score(test_val, tuned_pred))\n",
    "print(np.sqrt(metrics.mean_squared_error(y_train.to_numpy(), train_pred)))\n",
    "print(metrics.r2_score(y_train.to_numpy(), train_pred))"
   ]
  },
  {
   "cell_type": "code",
   "execution_count": null,
   "metadata": {},
   "outputs": [],
   "source": [
    "#tuned_xgb = XGBRegressor(subsample=0.8, n_estimators = 100, min_child_weight = 1, max_depth = 12,\n",
    "                         #learning_rate = 0.1, gamma = 7, eta = 0.05, colsample_bytree = 1.0)"
   ]
  },
  {
   "cell_type": "code",
   "execution_count": null,
   "metadata": {},
   "outputs": [],
   "source": [
    "{'subsample': 0.4, 'n_estimators': 300, 'min_child_weight': 1, 'max_depth': 15, 'learning_rate': 0.05, 'gamma': 3, 'eta': 0.1, 'colsample_bytree': 0.4}"
   ]
  },
  {
   "cell_type": "code",
   "execution_count": null,
   "metadata": {},
   "outputs": [],
   "source": []
  },
  {
   "cell_type": "code",
   "execution_count": null,
   "metadata": {},
   "outputs": [],
   "source": []
  }
 ],
 "metadata": {
  "kernelspec": {
   "display_name": "Python 3",
   "language": "python",
   "name": "python3"
  },
  "language_info": {
   "codemirror_mode": {
    "name": "ipython",
    "version": 3
   },
   "file_extension": ".py",
   "mimetype": "text/x-python",
   "name": "python",
   "nbconvert_exporter": "python",
   "pygments_lexer": "ipython3",
   "version": "3.8.4"
  }
 },
 "nbformat": 4,
 "nbformat_minor": 4
}
